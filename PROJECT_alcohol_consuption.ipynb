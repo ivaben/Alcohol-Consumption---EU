{
  "nbformat": 4,
  "nbformat_minor": 0,
  "metadata": {
    "colab": {
      "name": "PROJECT_alcohol_consuption.ipynb",
      "provenance": [],
      "include_colab_link": true
    },
    "kernelspec": {
      "name": "python3",
      "display_name": "Python 3"
    }
  },
  "cells": [
    {
      "cell_type": "markdown",
      "metadata": {
        "id": "view-in-github",
        "colab_type": "text"
      },
      "source": [
        "<a href=\"https://colab.research.google.com/github/ivaben/Alcohol-Consumption---EU/blob/master/PROJECT_alcohol_consuption.ipynb\" target=\"_parent\"><img src=\"https://colab.research.google.com/assets/colab-badge.svg\" alt=\"Open In Colab\"/></a>"
      ]
    },
    {
      "cell_type": "code",
      "metadata": {
        "id": "wxoaZcYynVRx",
        "colab_type": "code",
        "colab": {}
      },
      "source": [
        "import pandas as pd\n",
        "import statsmodels.api as sm"
      ],
      "execution_count": 0,
      "outputs": []
    },
    {
      "cell_type": "code",
      "metadata": {
        "id": "dV6LvkOrADeB",
        "colab_type": "code",
        "colab": {}
      },
      "source": [
        "# uploding first dataset\n",
        "pop_url = 'https://raw.githubusercontent.com/ivaben/Alcohol-Consumption---EU/master/population2011.csv'\n"
      ],
      "execution_count": 0,
      "outputs": []
    },
    {
      "cell_type": "code",
      "metadata": {
        "id": "kjvT6RrihzrF",
        "colab_type": "code",
        "colab": {
          "base_uri": "https://localhost:8080/",
          "height": 194
        },
        "outputId": "d1d6f6f3-b3c6-4ef0-d0dc-12f83af4430f"
      },
      "source": [
        "df1 = pd.read_csv(pop_url)\n",
        "df1.head()"
      ],
      "execution_count": 186,
      "outputs": [
        {
          "output_type": "execute_result",
          "data": {
            "text/html": [
              "<div>\n",
              "<style scoped>\n",
              "    .dataframe tbody tr th:only-of-type {\n",
              "        vertical-align: middle;\n",
              "    }\n",
              "\n",
              "    .dataframe tbody tr th {\n",
              "        vertical-align: top;\n",
              "    }\n",
              "\n",
              "    .dataframe thead th {\n",
              "        text-align: right;\n",
              "    }\n",
              "</style>\n",
              "<table border=\"1\" class=\"dataframe\">\n",
              "  <thead>\n",
              "    <tr style=\"text-align: right;\">\n",
              "      <th></th>\n",
              "      <th>country</th>\n",
              "      <th>total_pop</th>\n",
              "      <th>prct_yng_adt_pop</th>\n",
              "    </tr>\n",
              "  </thead>\n",
              "  <tbody>\n",
              "    <tr>\n",
              "      <th>0</th>\n",
              "      <td>Belgium</td>\n",
              "      <td>11000638</td>\n",
              "      <td>18.485146</td>\n",
              "    </tr>\n",
              "    <tr>\n",
              "      <th>1</th>\n",
              "      <td>Bulgaria</td>\n",
              "      <td>7364570</td>\n",
              "      <td>18.432577</td>\n",
              "    </tr>\n",
              "    <tr>\n",
              "      <th>2</th>\n",
              "      <td>Estonia</td>\n",
              "      <td>1294455</td>\n",
              "      <td>19.688363</td>\n",
              "    </tr>\n",
              "    <tr>\n",
              "      <th>3</th>\n",
              "      <td>Ireland</td>\n",
              "      <td>4574888</td>\n",
              "      <td>20.601335</td>\n",
              "    </tr>\n",
              "    <tr>\n",
              "      <th>4</th>\n",
              "      <td>Greece</td>\n",
              "      <td>10816286</td>\n",
              "      <td>17.604416</td>\n",
              "    </tr>\n",
              "  </tbody>\n",
              "</table>\n",
              "</div>"
            ],
            "text/plain": [
              "    country  total_pop  prct_yng_adt_pop\n",
              "0   Belgium   11000638         18.485146\n",
              "1  Bulgaria    7364570         18.432577\n",
              "2   Estonia    1294455         19.688363\n",
              "3   Ireland    4574888         20.601335\n",
              "4    Greece   10816286         17.604416"
            ]
          },
          "metadata": {
            "tags": []
          },
          "execution_count": 186
        }
      ]
    },
    {
      "cell_type": "code",
      "metadata": {
        "id": "kiVJa3uYAtCN",
        "colab_type": "code",
        "colab": {
          "base_uri": "https://localhost:8080/",
          "height": 35
        },
        "outputId": "20246036-c7c2-401b-8e83-ef1c41eb0d35"
      },
      "source": [
        "df1.shape"
      ],
      "execution_count": 140,
      "outputs": [
        {
          "output_type": "execute_result",
          "data": {
            "text/plain": [
              "(32, 3)"
            ]
          },
          "metadata": {
            "tags": []
          },
          "execution_count": 140
        }
      ]
    },
    {
      "cell_type": "code",
      "metadata": {
        "id": "bh1r2P34GEpg",
        "colab_type": "code",
        "colab": {
          "base_uri": "https://localhost:8080/",
          "height": 898
        },
        "outputId": "4e912408-1d59-49b8-9dbf-5f1c0b954b8f"
      },
      "source": [
        "# droping some unnecesary rows\n",
        "df3 = df1.drop(df1.index[[28,30,31]])\n",
        "df3.head(30)"
      ],
      "execution_count": 141,
      "outputs": [
        {
          "output_type": "execute_result",
          "data": {
            "text/html": [
              "<div>\n",
              "<style scoped>\n",
              "    .dataframe tbody tr th:only-of-type {\n",
              "        vertical-align: middle;\n",
              "    }\n",
              "\n",
              "    .dataframe tbody tr th {\n",
              "        vertical-align: top;\n",
              "    }\n",
              "\n",
              "    .dataframe thead th {\n",
              "        text-align: right;\n",
              "    }\n",
              "</style>\n",
              "<table border=\"1\" class=\"dataframe\">\n",
              "  <thead>\n",
              "    <tr style=\"text-align: right;\">\n",
              "      <th></th>\n",
              "      <th>country</th>\n",
              "      <th>total_pop</th>\n",
              "      <th>prct_yng_adt_pop</th>\n",
              "    </tr>\n",
              "  </thead>\n",
              "  <tbody>\n",
              "    <tr>\n",
              "      <th>0</th>\n",
              "      <td>Belgium</td>\n",
              "      <td>11000638</td>\n",
              "      <td>18.485146</td>\n",
              "    </tr>\n",
              "    <tr>\n",
              "      <th>1</th>\n",
              "      <td>Bulgaria</td>\n",
              "      <td>7364570</td>\n",
              "      <td>18.432577</td>\n",
              "    </tr>\n",
              "    <tr>\n",
              "      <th>2</th>\n",
              "      <td>Estonia</td>\n",
              "      <td>1294455</td>\n",
              "      <td>19.688363</td>\n",
              "    </tr>\n",
              "    <tr>\n",
              "      <th>3</th>\n",
              "      <td>Ireland</td>\n",
              "      <td>4574888</td>\n",
              "      <td>20.601335</td>\n",
              "    </tr>\n",
              "    <tr>\n",
              "      <th>4</th>\n",
              "      <td>Greece</td>\n",
              "      <td>10816286</td>\n",
              "      <td>17.604416</td>\n",
              "    </tr>\n",
              "    <tr>\n",
              "      <th>5</th>\n",
              "      <td>Spain</td>\n",
              "      <td>46815910</td>\n",
              "      <td>16.674331</td>\n",
              "    </tr>\n",
              "    <tr>\n",
              "      <th>6</th>\n",
              "      <td>France</td>\n",
              "      <td>64933400</td>\n",
              "      <td>18.527500</td>\n",
              "    </tr>\n",
              "    <tr>\n",
              "      <th>7</th>\n",
              "      <td>Croatia</td>\n",
              "      <td>4284889</td>\n",
              "      <td>18.551262</td>\n",
              "    </tr>\n",
              "    <tr>\n",
              "      <th>8</th>\n",
              "      <td>Italy</td>\n",
              "      <td>59433744</td>\n",
              "      <td>15.474973</td>\n",
              "    </tr>\n",
              "    <tr>\n",
              "      <th>9</th>\n",
              "      <td>Czechia</td>\n",
              "      <td>10436560</td>\n",
              "      <td>18.862489</td>\n",
              "    </tr>\n",
              "    <tr>\n",
              "      <th>10</th>\n",
              "      <td>Cyprus</td>\n",
              "      <td>840407</td>\n",
              "      <td>23.322628</td>\n",
              "    </tr>\n",
              "    <tr>\n",
              "      <th>11</th>\n",
              "      <td>Latvia</td>\n",
              "      <td>2070371</td>\n",
              "      <td>20.442858</td>\n",
              "    </tr>\n",
              "    <tr>\n",
              "      <th>12</th>\n",
              "      <td>Lithuania</td>\n",
              "      <td>3043429</td>\n",
              "      <td>20.526781</td>\n",
              "    </tr>\n",
              "    <tr>\n",
              "      <th>13</th>\n",
              "      <td>Luxembourg</td>\n",
              "      <td>512353</td>\n",
              "      <td>18.940652</td>\n",
              "    </tr>\n",
              "    <tr>\n",
              "      <th>14</th>\n",
              "      <td>Hungary</td>\n",
              "      <td>9937628</td>\n",
              "      <td>18.345122</td>\n",
              "    </tr>\n",
              "    <tr>\n",
              "      <th>15</th>\n",
              "      <td>Malta</td>\n",
              "      <td>417432</td>\n",
              "      <td>20.590659</td>\n",
              "    </tr>\n",
              "    <tr>\n",
              "      <th>16</th>\n",
              "      <td>Netherlands</td>\n",
              "      <td>16655799</td>\n",
              "      <td>18.269979</td>\n",
              "    </tr>\n",
              "    <tr>\n",
              "      <th>17</th>\n",
              "      <td>Austria</td>\n",
              "      <td>8401940</td>\n",
              "      <td>18.677544</td>\n",
              "    </tr>\n",
              "    <tr>\n",
              "      <th>18</th>\n",
              "      <td>Denmark</td>\n",
              "      <td>5560628</td>\n",
              "      <td>18.082004</td>\n",
              "    </tr>\n",
              "    <tr>\n",
              "      <th>19</th>\n",
              "      <td>Poland</td>\n",
              "      <td>38044565</td>\n",
              "      <td>21.915808</td>\n",
              "    </tr>\n",
              "    <tr>\n",
              "      <th>20</th>\n",
              "      <td>Portugal</td>\n",
              "      <td>10562178</td>\n",
              "      <td>17.074045</td>\n",
              "    </tr>\n",
              "    <tr>\n",
              "      <th>21</th>\n",
              "      <td>Romania</td>\n",
              "      <td>20121641</td>\n",
              "      <td>18.775328</td>\n",
              "    </tr>\n",
              "    <tr>\n",
              "      <th>22</th>\n",
              "      <td>Germany</td>\n",
              "      <td>80219695</td>\n",
              "      <td>17.105590</td>\n",
              "    </tr>\n",
              "    <tr>\n",
              "      <th>23</th>\n",
              "      <td>Slovenia</td>\n",
              "      <td>2050189</td>\n",
              "      <td>18.308800</td>\n",
              "    </tr>\n",
              "    <tr>\n",
              "      <th>24</th>\n",
              "      <td>Slovakia</td>\n",
              "      <td>5397036</td>\n",
              "      <td>21.908599</td>\n",
              "    </tr>\n",
              "    <tr>\n",
              "      <th>25</th>\n",
              "      <td>Finland</td>\n",
              "      <td>5375276</td>\n",
              "      <td>18.713960</td>\n",
              "    </tr>\n",
              "    <tr>\n",
              "      <th>26</th>\n",
              "      <td>Sweden</td>\n",
              "      <td>9482855</td>\n",
              "      <td>19.386292</td>\n",
              "    </tr>\n",
              "    <tr>\n",
              "      <th>27</th>\n",
              "      <td>United Kingdom</td>\n",
              "      <td>63182180</td>\n",
              "      <td>19.942316</td>\n",
              "    </tr>\n",
              "    <tr>\n",
              "      <th>29</th>\n",
              "      <td>Norway</td>\n",
              "      <td>4979954</td>\n",
              "      <td>19.586546</td>\n",
              "    </tr>\n",
              "  </tbody>\n",
              "</table>\n",
              "</div>"
            ],
            "text/plain": [
              "           country  total_pop  prct_yng_adt_pop\n",
              "0          Belgium   11000638         18.485146\n",
              "1         Bulgaria    7364570         18.432577\n",
              "2          Estonia    1294455         19.688363\n",
              "3          Ireland    4574888         20.601335\n",
              "4           Greece   10816286         17.604416\n",
              "5            Spain   46815910         16.674331\n",
              "6           France   64933400         18.527500\n",
              "7          Croatia    4284889         18.551262\n",
              "8            Italy   59433744         15.474973\n",
              "9          Czechia   10436560         18.862489\n",
              "10          Cyprus     840407         23.322628\n",
              "11          Latvia    2070371         20.442858\n",
              "12       Lithuania    3043429         20.526781\n",
              "13      Luxembourg     512353         18.940652\n",
              "14         Hungary    9937628         18.345122\n",
              "15           Malta     417432         20.590659\n",
              "16     Netherlands   16655799         18.269979\n",
              "17         Austria    8401940         18.677544\n",
              "18         Denmark    5560628         18.082004\n",
              "19          Poland   38044565         21.915808\n",
              "20        Portugal   10562178         17.074045\n",
              "21         Romania   20121641         18.775328\n",
              "22         Germany   80219695         17.105590\n",
              "23        Slovenia    2050189         18.308800\n",
              "24        Slovakia    5397036         21.908599\n",
              "25         Finland    5375276         18.713960\n",
              "26          Sweden    9482855         19.386292\n",
              "27  United Kingdom   63182180         19.942316\n",
              "29          Norway    4979954         19.586546"
            ]
          },
          "metadata": {
            "tags": []
          },
          "execution_count": 141
        }
      ]
    },
    {
      "cell_type": "code",
      "metadata": {
        "id": "hYdVcrSTKpM-",
        "colab_type": "code",
        "colab": {
          "base_uri": "https://localhost:8080/",
          "height": 898
        },
        "outputId": "d7c73eca-4f73-4978-a16b-60f9197f273c"
      },
      "source": [
        "# new dataframe with new column of codes\n",
        "df4 = df3.assign(Codes = ['BEL', 'BGR','EST', 'IRL','GRC','ESP','FRA','HRV','ITA'\n",
        ",'CZE','CYP','LVA','LTU','LUX', 'HUN','MLT','NLD','AUT','DNK','POL','PRT','ROU',\n",
        "'DEU','SVN','SVK','FIN','SWE','GBR','NOR'])\n",
        "df4.head(30)"
      ],
      "execution_count": 6,
      "outputs": [
        {
          "output_type": "execute_result",
          "data": {
            "text/html": [
              "<div>\n",
              "<style scoped>\n",
              "    .dataframe tbody tr th:only-of-type {\n",
              "        vertical-align: middle;\n",
              "    }\n",
              "\n",
              "    .dataframe tbody tr th {\n",
              "        vertical-align: top;\n",
              "    }\n",
              "\n",
              "    .dataframe thead th {\n",
              "        text-align: right;\n",
              "    }\n",
              "</style>\n",
              "<table border=\"1\" class=\"dataframe\">\n",
              "  <thead>\n",
              "    <tr style=\"text-align: right;\">\n",
              "      <th></th>\n",
              "      <th>country</th>\n",
              "      <th>total_pop</th>\n",
              "      <th>prct_yng_adt_pop</th>\n",
              "      <th>Codes</th>\n",
              "    </tr>\n",
              "  </thead>\n",
              "  <tbody>\n",
              "    <tr>\n",
              "      <th>0</th>\n",
              "      <td>Belgium</td>\n",
              "      <td>11000638</td>\n",
              "      <td>18.485146</td>\n",
              "      <td>BEL</td>\n",
              "    </tr>\n",
              "    <tr>\n",
              "      <th>1</th>\n",
              "      <td>Bulgaria</td>\n",
              "      <td>7364570</td>\n",
              "      <td>18.432577</td>\n",
              "      <td>BGR</td>\n",
              "    </tr>\n",
              "    <tr>\n",
              "      <th>2</th>\n",
              "      <td>Estonia</td>\n",
              "      <td>1294455</td>\n",
              "      <td>19.688363</td>\n",
              "      <td>EST</td>\n",
              "    </tr>\n",
              "    <tr>\n",
              "      <th>3</th>\n",
              "      <td>Ireland</td>\n",
              "      <td>4574888</td>\n",
              "      <td>20.601335</td>\n",
              "      <td>IRL</td>\n",
              "    </tr>\n",
              "    <tr>\n",
              "      <th>4</th>\n",
              "      <td>Greece</td>\n",
              "      <td>10816286</td>\n",
              "      <td>17.604416</td>\n",
              "      <td>GRC</td>\n",
              "    </tr>\n",
              "    <tr>\n",
              "      <th>5</th>\n",
              "      <td>Spain</td>\n",
              "      <td>46815910</td>\n",
              "      <td>16.674331</td>\n",
              "      <td>ESP</td>\n",
              "    </tr>\n",
              "    <tr>\n",
              "      <th>6</th>\n",
              "      <td>France</td>\n",
              "      <td>64933400</td>\n",
              "      <td>18.527500</td>\n",
              "      <td>FRA</td>\n",
              "    </tr>\n",
              "    <tr>\n",
              "      <th>7</th>\n",
              "      <td>Croatia</td>\n",
              "      <td>4284889</td>\n",
              "      <td>18.551262</td>\n",
              "      <td>HRV</td>\n",
              "    </tr>\n",
              "    <tr>\n",
              "      <th>8</th>\n",
              "      <td>Italy</td>\n",
              "      <td>59433744</td>\n",
              "      <td>15.474973</td>\n",
              "      <td>ITA</td>\n",
              "    </tr>\n",
              "    <tr>\n",
              "      <th>9</th>\n",
              "      <td>Czechia</td>\n",
              "      <td>10436560</td>\n",
              "      <td>18.862489</td>\n",
              "      <td>CZE</td>\n",
              "    </tr>\n",
              "    <tr>\n",
              "      <th>10</th>\n",
              "      <td>Cyprus</td>\n",
              "      <td>840407</td>\n",
              "      <td>23.322628</td>\n",
              "      <td>CYP</td>\n",
              "    </tr>\n",
              "    <tr>\n",
              "      <th>11</th>\n",
              "      <td>Latvia</td>\n",
              "      <td>2070371</td>\n",
              "      <td>20.442858</td>\n",
              "      <td>LVA</td>\n",
              "    </tr>\n",
              "    <tr>\n",
              "      <th>12</th>\n",
              "      <td>Lithuania</td>\n",
              "      <td>3043429</td>\n",
              "      <td>20.526781</td>\n",
              "      <td>LTU</td>\n",
              "    </tr>\n",
              "    <tr>\n",
              "      <th>13</th>\n",
              "      <td>Luxembourg</td>\n",
              "      <td>512353</td>\n",
              "      <td>18.940652</td>\n",
              "      <td>LUX</td>\n",
              "    </tr>\n",
              "    <tr>\n",
              "      <th>14</th>\n",
              "      <td>Hungary</td>\n",
              "      <td>9937628</td>\n",
              "      <td>18.345122</td>\n",
              "      <td>HUN</td>\n",
              "    </tr>\n",
              "    <tr>\n",
              "      <th>15</th>\n",
              "      <td>Malta</td>\n",
              "      <td>417432</td>\n",
              "      <td>20.590659</td>\n",
              "      <td>MLT</td>\n",
              "    </tr>\n",
              "    <tr>\n",
              "      <th>16</th>\n",
              "      <td>Netherlands</td>\n",
              "      <td>16655799</td>\n",
              "      <td>18.269979</td>\n",
              "      <td>NLD</td>\n",
              "    </tr>\n",
              "    <tr>\n",
              "      <th>17</th>\n",
              "      <td>Austria</td>\n",
              "      <td>8401940</td>\n",
              "      <td>18.677544</td>\n",
              "      <td>AUT</td>\n",
              "    </tr>\n",
              "    <tr>\n",
              "      <th>18</th>\n",
              "      <td>Denmark</td>\n",
              "      <td>5560628</td>\n",
              "      <td>18.082004</td>\n",
              "      <td>DNK</td>\n",
              "    </tr>\n",
              "    <tr>\n",
              "      <th>19</th>\n",
              "      <td>Poland</td>\n",
              "      <td>38044565</td>\n",
              "      <td>21.915808</td>\n",
              "      <td>POL</td>\n",
              "    </tr>\n",
              "    <tr>\n",
              "      <th>20</th>\n",
              "      <td>Portugal</td>\n",
              "      <td>10562178</td>\n",
              "      <td>17.074045</td>\n",
              "      <td>PRT</td>\n",
              "    </tr>\n",
              "    <tr>\n",
              "      <th>21</th>\n",
              "      <td>Romania</td>\n",
              "      <td>20121641</td>\n",
              "      <td>18.775328</td>\n",
              "      <td>ROU</td>\n",
              "    </tr>\n",
              "    <tr>\n",
              "      <th>22</th>\n",
              "      <td>Germany</td>\n",
              "      <td>80219695</td>\n",
              "      <td>17.105590</td>\n",
              "      <td>DEU</td>\n",
              "    </tr>\n",
              "    <tr>\n",
              "      <th>23</th>\n",
              "      <td>Slovenia</td>\n",
              "      <td>2050189</td>\n",
              "      <td>18.308800</td>\n",
              "      <td>SVN</td>\n",
              "    </tr>\n",
              "    <tr>\n",
              "      <th>24</th>\n",
              "      <td>Slovakia</td>\n",
              "      <td>5397036</td>\n",
              "      <td>21.908599</td>\n",
              "      <td>SVK</td>\n",
              "    </tr>\n",
              "    <tr>\n",
              "      <th>25</th>\n",
              "      <td>Finland</td>\n",
              "      <td>5375276</td>\n",
              "      <td>18.713960</td>\n",
              "      <td>FIN</td>\n",
              "    </tr>\n",
              "    <tr>\n",
              "      <th>26</th>\n",
              "      <td>Sweden</td>\n",
              "      <td>9482855</td>\n",
              "      <td>19.386292</td>\n",
              "      <td>SWE</td>\n",
              "    </tr>\n",
              "    <tr>\n",
              "      <th>27</th>\n",
              "      <td>United Kingdom</td>\n",
              "      <td>63182180</td>\n",
              "      <td>19.942316</td>\n",
              "      <td>GBR</td>\n",
              "    </tr>\n",
              "    <tr>\n",
              "      <th>29</th>\n",
              "      <td>Norway</td>\n",
              "      <td>4979954</td>\n",
              "      <td>19.586546</td>\n",
              "      <td>NOR</td>\n",
              "    </tr>\n",
              "  </tbody>\n",
              "</table>\n",
              "</div>"
            ],
            "text/plain": [
              "           country  total_pop  prct_yng_adt_pop Codes\n",
              "0          Belgium   11000638         18.485146   BEL\n",
              "1         Bulgaria    7364570         18.432577   BGR\n",
              "2          Estonia    1294455         19.688363   EST\n",
              "3          Ireland    4574888         20.601335   IRL\n",
              "4           Greece   10816286         17.604416   GRC\n",
              "5            Spain   46815910         16.674331   ESP\n",
              "6           France   64933400         18.527500   FRA\n",
              "7          Croatia    4284889         18.551262   HRV\n",
              "8            Italy   59433744         15.474973   ITA\n",
              "9          Czechia   10436560         18.862489   CZE\n",
              "10          Cyprus     840407         23.322628   CYP\n",
              "11          Latvia    2070371         20.442858   LVA\n",
              "12       Lithuania    3043429         20.526781   LTU\n",
              "13      Luxembourg     512353         18.940652   LUX\n",
              "14         Hungary    9937628         18.345122   HUN\n",
              "15           Malta     417432         20.590659   MLT\n",
              "16     Netherlands   16655799         18.269979   NLD\n",
              "17         Austria    8401940         18.677544   AUT\n",
              "18         Denmark    5560628         18.082004   DNK\n",
              "19          Poland   38044565         21.915808   POL\n",
              "20        Portugal   10562178         17.074045   PRT\n",
              "21         Romania   20121641         18.775328   ROU\n",
              "22         Germany   80219695         17.105590   DEU\n",
              "23        Slovenia    2050189         18.308800   SVN\n",
              "24        Slovakia    5397036         21.908599   SVK\n",
              "25         Finland    5375276         18.713960   FIN\n",
              "26          Sweden    9482855         19.386292   SWE\n",
              "27  United Kingdom   63182180         19.942316   GBR\n",
              "29          Norway    4979954         19.586546   NOR"
            ]
          },
          "metadata": {
            "tags": []
          },
          "execution_count": 6
        }
      ]
    },
    {
      "cell_type": "code",
      "metadata": {
        "id": "ezLCscoGca_X",
        "colab_type": "code",
        "colab": {
          "base_uri": "https://localhost:8080/",
          "height": 194
        },
        "outputId": "7ff7df2f-2782-451b-8f11-9feb80b19659"
      },
      "source": [
        "# rename columns\n",
        "df4.rename  (columns = {\"country\" : \"Country\", \"total_pop\":\"Population\", \"prct_yng_adt_pop\": \"Percentage_Y_A\"}, inplace = True)\n",
        "df4.head()"
      ],
      "execution_count": 7,
      "outputs": [
        {
          "output_type": "execute_result",
          "data": {
            "text/html": [
              "<div>\n",
              "<style scoped>\n",
              "    .dataframe tbody tr th:only-of-type {\n",
              "        vertical-align: middle;\n",
              "    }\n",
              "\n",
              "    .dataframe tbody tr th {\n",
              "        vertical-align: top;\n",
              "    }\n",
              "\n",
              "    .dataframe thead th {\n",
              "        text-align: right;\n",
              "    }\n",
              "</style>\n",
              "<table border=\"1\" class=\"dataframe\">\n",
              "  <thead>\n",
              "    <tr style=\"text-align: right;\">\n",
              "      <th></th>\n",
              "      <th>Country</th>\n",
              "      <th>Population</th>\n",
              "      <th>Percentage_Y_A</th>\n",
              "      <th>Codes</th>\n",
              "    </tr>\n",
              "  </thead>\n",
              "  <tbody>\n",
              "    <tr>\n",
              "      <th>0</th>\n",
              "      <td>Belgium</td>\n",
              "      <td>11000638</td>\n",
              "      <td>18.485146</td>\n",
              "      <td>BEL</td>\n",
              "    </tr>\n",
              "    <tr>\n",
              "      <th>1</th>\n",
              "      <td>Bulgaria</td>\n",
              "      <td>7364570</td>\n",
              "      <td>18.432577</td>\n",
              "      <td>BGR</td>\n",
              "    </tr>\n",
              "    <tr>\n",
              "      <th>2</th>\n",
              "      <td>Estonia</td>\n",
              "      <td>1294455</td>\n",
              "      <td>19.688363</td>\n",
              "      <td>EST</td>\n",
              "    </tr>\n",
              "    <tr>\n",
              "      <th>3</th>\n",
              "      <td>Ireland</td>\n",
              "      <td>4574888</td>\n",
              "      <td>20.601335</td>\n",
              "      <td>IRL</td>\n",
              "    </tr>\n",
              "    <tr>\n",
              "      <th>4</th>\n",
              "      <td>Greece</td>\n",
              "      <td>10816286</td>\n",
              "      <td>17.604416</td>\n",
              "      <td>GRC</td>\n",
              "    </tr>\n",
              "  </tbody>\n",
              "</table>\n",
              "</div>"
            ],
            "text/plain": [
              "    Country  Population  Percentage_Y_A Codes\n",
              "0   Belgium    11000638       18.485146   BEL\n",
              "1  Bulgaria     7364570       18.432577   BGR\n",
              "2   Estonia     1294455       19.688363   EST\n",
              "3   Ireland     4574888       20.601335   IRL\n",
              "4    Greece    10816286       17.604416   GRC"
            ]
          },
          "metadata": {
            "tags": []
          },
          "execution_count": 7
        }
      ]
    },
    {
      "cell_type": "code",
      "metadata": {
        "id": "xG1vimV-A_pM",
        "colab_type": "code",
        "colab": {}
      },
      "source": [
        "year_url = 'https://raw.githubusercontent.com/ivaben/Alcohol-Consumption---EU/master/DP_LIVE_13112019174450740.csv'"
      ],
      "execution_count": 0,
      "outputs": []
    },
    {
      "cell_type": "code",
      "metadata": {
        "id": "KXUluJdHiaLR",
        "colab_type": "code",
        "colab": {
          "base_uri": "https://localhost:8080/",
          "height": 194
        },
        "outputId": "6873f767-be10-4fd9-d0c5-55d5620e81da"
      },
      "source": [
        "# uploading second dataset\n",
        "df2 = pd.read_csv(year_url)\n",
        "df2.head()"
      ],
      "execution_count": 143,
      "outputs": [
        {
          "output_type": "execute_result",
          "data": {
            "text/html": [
              "<div>\n",
              "<style scoped>\n",
              "    .dataframe tbody tr th:only-of-type {\n",
              "        vertical-align: middle;\n",
              "    }\n",
              "\n",
              "    .dataframe tbody tr th {\n",
              "        vertical-align: top;\n",
              "    }\n",
              "\n",
              "    .dataframe thead th {\n",
              "        text-align: right;\n",
              "    }\n",
              "</style>\n",
              "<table border=\"1\" class=\"dataframe\">\n",
              "  <thead>\n",
              "    <tr style=\"text-align: right;\">\n",
              "      <th></th>\n",
              "      <th>LOCATION</th>\n",
              "      <th>INDICATOR</th>\n",
              "      <th>SUBJECT</th>\n",
              "      <th>MEASURE</th>\n",
              "      <th>FREQUENCY</th>\n",
              "      <th>TIME</th>\n",
              "      <th>Value</th>\n",
              "      <th>Flag Codes</th>\n",
              "    </tr>\n",
              "  </thead>\n",
              "  <tbody>\n",
              "    <tr>\n",
              "      <th>0</th>\n",
              "      <td>AUS</td>\n",
              "      <td>ALCOHOL</td>\n",
              "      <td>TOT</td>\n",
              "      <td>LT_CAP15</td>\n",
              "      <td>A</td>\n",
              "      <td>1960</td>\n",
              "      <td>9.3</td>\n",
              "      <td>NaN</td>\n",
              "    </tr>\n",
              "    <tr>\n",
              "      <th>1</th>\n",
              "      <td>AUS</td>\n",
              "      <td>ALCOHOL</td>\n",
              "      <td>TOT</td>\n",
              "      <td>LT_CAP15</td>\n",
              "      <td>A</td>\n",
              "      <td>1961</td>\n",
              "      <td>9.4</td>\n",
              "      <td>NaN</td>\n",
              "    </tr>\n",
              "    <tr>\n",
              "      <th>2</th>\n",
              "      <td>AUS</td>\n",
              "      <td>ALCOHOL</td>\n",
              "      <td>TOT</td>\n",
              "      <td>LT_CAP15</td>\n",
              "      <td>A</td>\n",
              "      <td>1962</td>\n",
              "      <td>9.5</td>\n",
              "      <td>NaN</td>\n",
              "    </tr>\n",
              "    <tr>\n",
              "      <th>3</th>\n",
              "      <td>AUS</td>\n",
              "      <td>ALCOHOL</td>\n",
              "      <td>TOT</td>\n",
              "      <td>LT_CAP15</td>\n",
              "      <td>A</td>\n",
              "      <td>1963</td>\n",
              "      <td>9.8</td>\n",
              "      <td>NaN</td>\n",
              "    </tr>\n",
              "    <tr>\n",
              "      <th>4</th>\n",
              "      <td>AUS</td>\n",
              "      <td>ALCOHOL</td>\n",
              "      <td>TOT</td>\n",
              "      <td>LT_CAP15</td>\n",
              "      <td>A</td>\n",
              "      <td>1964</td>\n",
              "      <td>10.1</td>\n",
              "      <td>NaN</td>\n",
              "    </tr>\n",
              "  </tbody>\n",
              "</table>\n",
              "</div>"
            ],
            "text/plain": [
              "  LOCATION INDICATOR SUBJECT   MEASURE FREQUENCY  TIME  Value Flag Codes\n",
              "0      AUS   ALCOHOL     TOT  LT_CAP15         A  1960    9.3        NaN\n",
              "1      AUS   ALCOHOL     TOT  LT_CAP15         A  1961    9.4        NaN\n",
              "2      AUS   ALCOHOL     TOT  LT_CAP15         A  1962    9.5        NaN\n",
              "3      AUS   ALCOHOL     TOT  LT_CAP15         A  1963    9.8        NaN\n",
              "4      AUS   ALCOHOL     TOT  LT_CAP15         A  1964   10.1        NaN"
            ]
          },
          "metadata": {
            "tags": []
          },
          "execution_count": 143
        }
      ]
    },
    {
      "cell_type": "code",
      "metadata": {
        "id": "UDPG01yxCosm",
        "colab_type": "code",
        "colab": {
          "base_uri": "https://localhost:8080/",
          "height": 35
        },
        "outputId": "d8affb65-6df6-4802-d6f5-be569d846832"
      },
      "source": [
        "df2.shape"
      ],
      "execution_count": 144,
      "outputs": [
        {
          "output_type": "execute_result",
          "data": {
            "text/plain": [
              "(2325, 8)"
            ]
          },
          "metadata": {
            "tags": []
          },
          "execution_count": 144
        }
      ]
    },
    {
      "cell_type": "code",
      "metadata": {
        "id": "y-BcGoLrXjKW",
        "colab_type": "code",
        "colab": {
          "base_uri": "https://localhost:8080/",
          "height": 194
        },
        "outputId": "90b4ea8b-8cf9-4a70-f1bf-1c5685ee63ba"
      },
      "source": [
        "# droping columns from dataset\n",
        "df8 = df2.drop(columns=['SUBJECT', 'MEASURE', 'FREQUENCY', 'Flag Codes','INDICATOR'])\n",
        "df8.head()"
      ],
      "execution_count": 145,
      "outputs": [
        {
          "output_type": "execute_result",
          "data": {
            "text/html": [
              "<div>\n",
              "<style scoped>\n",
              "    .dataframe tbody tr th:only-of-type {\n",
              "        vertical-align: middle;\n",
              "    }\n",
              "\n",
              "    .dataframe tbody tr th {\n",
              "        vertical-align: top;\n",
              "    }\n",
              "\n",
              "    .dataframe thead th {\n",
              "        text-align: right;\n",
              "    }\n",
              "</style>\n",
              "<table border=\"1\" class=\"dataframe\">\n",
              "  <thead>\n",
              "    <tr style=\"text-align: right;\">\n",
              "      <th></th>\n",
              "      <th>LOCATION</th>\n",
              "      <th>TIME</th>\n",
              "      <th>Value</th>\n",
              "    </tr>\n",
              "  </thead>\n",
              "  <tbody>\n",
              "    <tr>\n",
              "      <th>0</th>\n",
              "      <td>AUS</td>\n",
              "      <td>1960</td>\n",
              "      <td>9.3</td>\n",
              "    </tr>\n",
              "    <tr>\n",
              "      <th>1</th>\n",
              "      <td>AUS</td>\n",
              "      <td>1961</td>\n",
              "      <td>9.4</td>\n",
              "    </tr>\n",
              "    <tr>\n",
              "      <th>2</th>\n",
              "      <td>AUS</td>\n",
              "      <td>1962</td>\n",
              "      <td>9.5</td>\n",
              "    </tr>\n",
              "    <tr>\n",
              "      <th>3</th>\n",
              "      <td>AUS</td>\n",
              "      <td>1963</td>\n",
              "      <td>9.8</td>\n",
              "    </tr>\n",
              "    <tr>\n",
              "      <th>4</th>\n",
              "      <td>AUS</td>\n",
              "      <td>1964</td>\n",
              "      <td>10.1</td>\n",
              "    </tr>\n",
              "  </tbody>\n",
              "</table>\n",
              "</div>"
            ],
            "text/plain": [
              "  LOCATION  TIME  Value\n",
              "0      AUS  1960    9.3\n",
              "1      AUS  1961    9.4\n",
              "2      AUS  1962    9.5\n",
              "3      AUS  1963    9.8\n",
              "4      AUS  1964   10.1"
            ]
          },
          "metadata": {
            "tags": []
          },
          "execution_count": 145
        }
      ]
    },
    {
      "cell_type": "code",
      "metadata": {
        "id": "eiw1suXWOVI6",
        "colab_type": "code",
        "colab": {}
      },
      "source": [
        "# making new columns \n",
        "df6 = ['BEL', 'BGR','EST', 'IRL','GRC','ESP','FRA','HRV','ITA'\n",
        ",'CZE','CYP','LVA','LTU','LUX', 'HUN','MLT','NLD','AUT','DNK','POL','PRT','ROU',\n",
        "'DEU','SVN','SVK','FIN','SWE','GBR','NOR']"
      ],
      "execution_count": 0,
      "outputs": []
    },
    {
      "cell_type": "code",
      "metadata": {
        "id": "k5MasL_0O2Jh",
        "colab_type": "code",
        "colab": {
          "base_uri": "https://localhost:8080/",
          "height": 194
        },
        "outputId": "69555f4f-c9f3-4be1-ec6e-828aae824493"
      },
      "source": [
        "df7 = df8[df8.LOCATION.isin(df6)]\n",
        "df7.head()"
      ],
      "execution_count": 146,
      "outputs": [
        {
          "output_type": "execute_result",
          "data": {
            "text/html": [
              "<div>\n",
              "<style scoped>\n",
              "    .dataframe tbody tr th:only-of-type {\n",
              "        vertical-align: middle;\n",
              "    }\n",
              "\n",
              "    .dataframe tbody tr th {\n",
              "        vertical-align: top;\n",
              "    }\n",
              "\n",
              "    .dataframe thead th {\n",
              "        text-align: right;\n",
              "    }\n",
              "</style>\n",
              "<table border=\"1\" class=\"dataframe\">\n",
              "  <thead>\n",
              "    <tr style=\"text-align: right;\">\n",
              "      <th></th>\n",
              "      <th>LOCATION</th>\n",
              "      <th>TIME</th>\n",
              "      <th>Value</th>\n",
              "    </tr>\n",
              "  </thead>\n",
              "  <tbody>\n",
              "    <tr>\n",
              "      <th>57</th>\n",
              "      <td>AUT</td>\n",
              "      <td>1960</td>\n",
              "      <td>9.4</td>\n",
              "    </tr>\n",
              "    <tr>\n",
              "      <th>58</th>\n",
              "      <td>AUT</td>\n",
              "      <td>1961</td>\n",
              "      <td>10.0</td>\n",
              "    </tr>\n",
              "    <tr>\n",
              "      <th>59</th>\n",
              "      <td>AUT</td>\n",
              "      <td>1962</td>\n",
              "      <td>10.0</td>\n",
              "    </tr>\n",
              "    <tr>\n",
              "      <th>60</th>\n",
              "      <td>AUT</td>\n",
              "      <td>1963</td>\n",
              "      <td>10.8</td>\n",
              "    </tr>\n",
              "    <tr>\n",
              "      <th>61</th>\n",
              "      <td>AUT</td>\n",
              "      <td>1964</td>\n",
              "      <td>11.3</td>\n",
              "    </tr>\n",
              "  </tbody>\n",
              "</table>\n",
              "</div>"
            ],
            "text/plain": [
              "   LOCATION  TIME  Value\n",
              "57      AUT  1960    9.4\n",
              "58      AUT  1961   10.0\n",
              "59      AUT  1962   10.0\n",
              "60      AUT  1963   10.8\n",
              "61      AUT  1964   11.3"
            ]
          },
          "metadata": {
            "tags": []
          },
          "execution_count": 146
        }
      ]
    },
    {
      "cell_type": "code",
      "metadata": {
        "id": "gh9xndeKQV5z",
        "colab_type": "code",
        "colab": {
          "base_uri": "https://localhost:8080/",
          "height": 35
        },
        "outputId": "2576fa00-35aa-43f1-a911-336a3d941e24"
      },
      "source": [
        "df7.shape"
      ],
      "execution_count": 147,
      "outputs": [
        {
          "output_type": "execute_result",
          "data": {
            "text/plain": [
              "(1232, 3)"
            ]
          },
          "metadata": {
            "tags": []
          },
          "execution_count": 147
        }
      ]
    },
    {
      "cell_type": "code",
      "metadata": {
        "id": "P0suwLJJZoLH",
        "colab_type": "code",
        "colab": {
          "base_uri": "https://localhost:8080/",
          "height": 283
        },
        "outputId": "4e063cc1-2835-47bc-e51a-d2fac3c87010"
      },
      "source": [
        "# rename columns \n",
        "\n",
        "df7.rename  (columns = {\"LOCATION\" : \"Codes\", \"TIME\":\"Time\"}, inplace = True)\n",
        "df7.head()"
      ],
      "execution_count": 148,
      "outputs": [
        {
          "output_type": "stream",
          "text": [
            "/usr/local/lib/python3.6/dist-packages/pandas/core/frame.py:4238: SettingWithCopyWarning: \n",
            "A value is trying to be set on a copy of a slice from a DataFrame\n",
            "\n",
            "See the caveats in the documentation: http://pandas.pydata.org/pandas-docs/stable/user_guide/indexing.html#returning-a-view-versus-a-copy\n",
            "  return super().rename(**kwargs)\n"
          ],
          "name": "stderr"
        },
        {
          "output_type": "execute_result",
          "data": {
            "text/html": [
              "<div>\n",
              "<style scoped>\n",
              "    .dataframe tbody tr th:only-of-type {\n",
              "        vertical-align: middle;\n",
              "    }\n",
              "\n",
              "    .dataframe tbody tr th {\n",
              "        vertical-align: top;\n",
              "    }\n",
              "\n",
              "    .dataframe thead th {\n",
              "        text-align: right;\n",
              "    }\n",
              "</style>\n",
              "<table border=\"1\" class=\"dataframe\">\n",
              "  <thead>\n",
              "    <tr style=\"text-align: right;\">\n",
              "      <th></th>\n",
              "      <th>Codes</th>\n",
              "      <th>Time</th>\n",
              "      <th>Value</th>\n",
              "    </tr>\n",
              "  </thead>\n",
              "  <tbody>\n",
              "    <tr>\n",
              "      <th>57</th>\n",
              "      <td>AUT</td>\n",
              "      <td>1960</td>\n",
              "      <td>9.4</td>\n",
              "    </tr>\n",
              "    <tr>\n",
              "      <th>58</th>\n",
              "      <td>AUT</td>\n",
              "      <td>1961</td>\n",
              "      <td>10.0</td>\n",
              "    </tr>\n",
              "    <tr>\n",
              "      <th>59</th>\n",
              "      <td>AUT</td>\n",
              "      <td>1962</td>\n",
              "      <td>10.0</td>\n",
              "    </tr>\n",
              "    <tr>\n",
              "      <th>60</th>\n",
              "      <td>AUT</td>\n",
              "      <td>1963</td>\n",
              "      <td>10.8</td>\n",
              "    </tr>\n",
              "    <tr>\n",
              "      <th>61</th>\n",
              "      <td>AUT</td>\n",
              "      <td>1964</td>\n",
              "      <td>11.3</td>\n",
              "    </tr>\n",
              "  </tbody>\n",
              "</table>\n",
              "</div>"
            ],
            "text/plain": [
              "   Codes  Time  Value\n",
              "57   AUT  1960    9.4\n",
              "58   AUT  1961   10.0\n",
              "59   AUT  1962   10.0\n",
              "60   AUT  1963   10.8\n",
              "61   AUT  1964   11.3"
            ]
          },
          "metadata": {
            "tags": []
          },
          "execution_count": 148
        }
      ]
    },
    {
      "cell_type": "code",
      "metadata": {
        "id": "M8mIMa9jbvbP",
        "colab_type": "code",
        "colab": {
          "base_uri": "https://localhost:8080/",
          "height": 194
        },
        "outputId": "5c383f9f-28fb-4776-d649-37279552de98"
      },
      "source": [
        "df7.tail()"
      ],
      "execution_count": 149,
      "outputs": [
        {
          "output_type": "execute_result",
          "data": {
            "text/html": [
              "<div>\n",
              "<style scoped>\n",
              "    .dataframe tbody tr th:only-of-type {\n",
              "        vertical-align: middle;\n",
              "    }\n",
              "\n",
              "    .dataframe tbody tr th {\n",
              "        vertical-align: top;\n",
              "    }\n",
              "\n",
              "    .dataframe thead th {\n",
              "        text-align: right;\n",
              "    }\n",
              "</style>\n",
              "<table border=\"1\" class=\"dataframe\">\n",
              "  <thead>\n",
              "    <tr style=\"text-align: right;\">\n",
              "      <th></th>\n",
              "      <th>Codes</th>\n",
              "      <th>Time</th>\n",
              "      <th>Value</th>\n",
              "    </tr>\n",
              "  </thead>\n",
              "  <tbody>\n",
              "    <tr>\n",
              "      <th>2262</th>\n",
              "      <td>LTU</td>\n",
              "      <td>2013</td>\n",
              "      <td>14.5</td>\n",
              "    </tr>\n",
              "    <tr>\n",
              "      <th>2263</th>\n",
              "      <td>LTU</td>\n",
              "      <td>2014</td>\n",
              "      <td>14.2</td>\n",
              "    </tr>\n",
              "    <tr>\n",
              "      <th>2264</th>\n",
              "      <td>LTU</td>\n",
              "      <td>2015</td>\n",
              "      <td>14.0</td>\n",
              "    </tr>\n",
              "    <tr>\n",
              "      <th>2265</th>\n",
              "      <td>LTU</td>\n",
              "      <td>2016</td>\n",
              "      <td>13.2</td>\n",
              "    </tr>\n",
              "    <tr>\n",
              "      <th>2266</th>\n",
              "      <td>LTU</td>\n",
              "      <td>2017</td>\n",
              "      <td>12.3</td>\n",
              "    </tr>\n",
              "  </tbody>\n",
              "</table>\n",
              "</div>"
            ],
            "text/plain": [
              "     Codes  Time  Value\n",
              "2262   LTU  2013   14.5\n",
              "2263   LTU  2014   14.2\n",
              "2264   LTU  2015   14.0\n",
              "2265   LTU  2016   13.2\n",
              "2266   LTU  2017   12.3"
            ]
          },
          "metadata": {
            "tags": []
          },
          "execution_count": 149
        }
      ]
    },
    {
      "cell_type": "code",
      "metadata": {
        "id": "7C9vaDRiYqAg",
        "colab_type": "code",
        "colab": {
          "base_uri": "https://localhost:8080/",
          "height": 194
        },
        "outputId": "bdc8f969-6886-48c5-f447-7e32f67c7a08"
      },
      "source": [
        "# merging firs and second dataset\n",
        "df10 = pd.merge(df4, df7, how = 'inner', on = 'Codes')\n",
        "df10.head()"
      ],
      "execution_count": 152,
      "outputs": [
        {
          "output_type": "execute_result",
          "data": {
            "text/html": [
              "<div>\n",
              "<style scoped>\n",
              "    .dataframe tbody tr th:only-of-type {\n",
              "        vertical-align: middle;\n",
              "    }\n",
              "\n",
              "    .dataframe tbody tr th {\n",
              "        vertical-align: top;\n",
              "    }\n",
              "\n",
              "    .dataframe thead th {\n",
              "        text-align: right;\n",
              "    }\n",
              "</style>\n",
              "<table border=\"1\" class=\"dataframe\">\n",
              "  <thead>\n",
              "    <tr style=\"text-align: right;\">\n",
              "      <th></th>\n",
              "      <th>Country</th>\n",
              "      <th>Population</th>\n",
              "      <th>Percentage_Y_A</th>\n",
              "      <th>Codes</th>\n",
              "      <th>Time</th>\n",
              "      <th>Value</th>\n",
              "    </tr>\n",
              "  </thead>\n",
              "  <tbody>\n",
              "    <tr>\n",
              "      <th>0</th>\n",
              "      <td>Belgium</td>\n",
              "      <td>11000638</td>\n",
              "      <td>18.485146</td>\n",
              "      <td>BEL</td>\n",
              "      <td>1963</td>\n",
              "      <td>9.9</td>\n",
              "    </tr>\n",
              "    <tr>\n",
              "      <th>1</th>\n",
              "      <td>Belgium</td>\n",
              "      <td>11000638</td>\n",
              "      <td>18.485146</td>\n",
              "      <td>BEL</td>\n",
              "      <td>1964</td>\n",
              "      <td>10.5</td>\n",
              "    </tr>\n",
              "    <tr>\n",
              "      <th>2</th>\n",
              "      <td>Belgium</td>\n",
              "      <td>11000638</td>\n",
              "      <td>18.485146</td>\n",
              "      <td>BEL</td>\n",
              "      <td>1965</td>\n",
              "      <td>10.8</td>\n",
              "    </tr>\n",
              "    <tr>\n",
              "      <th>3</th>\n",
              "      <td>Belgium</td>\n",
              "      <td>11000638</td>\n",
              "      <td>18.485146</td>\n",
              "      <td>BEL</td>\n",
              "      <td>1966</td>\n",
              "      <td>10.3</td>\n",
              "    </tr>\n",
              "    <tr>\n",
              "      <th>4</th>\n",
              "      <td>Belgium</td>\n",
              "      <td>11000638</td>\n",
              "      <td>18.485146</td>\n",
              "      <td>BEL</td>\n",
              "      <td>1967</td>\n",
              "      <td>10.7</td>\n",
              "    </tr>\n",
              "  </tbody>\n",
              "</table>\n",
              "</div>"
            ],
            "text/plain": [
              "   Country  Population  Percentage_Y_A Codes  Time  Value\n",
              "0  Belgium    11000638       18.485146   BEL  1963    9.9\n",
              "1  Belgium    11000638       18.485146   BEL  1964   10.5\n",
              "2  Belgium    11000638       18.485146   BEL  1965   10.8\n",
              "3  Belgium    11000638       18.485146   BEL  1966   10.3\n",
              "4  Belgium    11000638       18.485146   BEL  1967   10.7"
            ]
          },
          "metadata": {
            "tags": []
          },
          "execution_count": 152
        }
      ]
    },
    {
      "cell_type": "code",
      "metadata": {
        "id": "f1Cdry3l9FCr",
        "colab_type": "code",
        "colab": {
          "base_uri": "https://localhost:8080/",
          "height": 194
        },
        "outputId": "a4ec435e-f861-482d-c12c-6734ad5f9b3d"
      },
      "source": [
        "df10.tail()"
      ],
      "execution_count": 153,
      "outputs": [
        {
          "output_type": "execute_result",
          "data": {
            "text/html": [
              "<div>\n",
              "<style scoped>\n",
              "    .dataframe tbody tr th:only-of-type {\n",
              "        vertical-align: middle;\n",
              "    }\n",
              "\n",
              "    .dataframe tbody tr th {\n",
              "        vertical-align: top;\n",
              "    }\n",
              "\n",
              "    .dataframe thead th {\n",
              "        text-align: right;\n",
              "    }\n",
              "</style>\n",
              "<table border=\"1\" class=\"dataframe\">\n",
              "  <thead>\n",
              "    <tr style=\"text-align: right;\">\n",
              "      <th></th>\n",
              "      <th>Country</th>\n",
              "      <th>Population</th>\n",
              "      <th>Percentage_Y_A</th>\n",
              "      <th>Codes</th>\n",
              "      <th>Time</th>\n",
              "      <th>Value</th>\n",
              "    </tr>\n",
              "  </thead>\n",
              "  <tbody>\n",
              "    <tr>\n",
              "      <th>1227</th>\n",
              "      <td>Norway</td>\n",
              "      <td>4979954</td>\n",
              "      <td>19.586546</td>\n",
              "      <td>NOR</td>\n",
              "      <td>2014</td>\n",
              "      <td>6.1</td>\n",
              "    </tr>\n",
              "    <tr>\n",
              "      <th>1228</th>\n",
              "      <td>Norway</td>\n",
              "      <td>4979954</td>\n",
              "      <td>19.586546</td>\n",
              "      <td>NOR</td>\n",
              "      <td>2015</td>\n",
              "      <td>6.0</td>\n",
              "    </tr>\n",
              "    <tr>\n",
              "      <th>1229</th>\n",
              "      <td>Norway</td>\n",
              "      <td>4979954</td>\n",
              "      <td>19.586546</td>\n",
              "      <td>NOR</td>\n",
              "      <td>2016</td>\n",
              "      <td>6.0</td>\n",
              "    </tr>\n",
              "    <tr>\n",
              "      <th>1230</th>\n",
              "      <td>Norway</td>\n",
              "      <td>4979954</td>\n",
              "      <td>19.586546</td>\n",
              "      <td>NOR</td>\n",
              "      <td>2017</td>\n",
              "      <td>6.0</td>\n",
              "    </tr>\n",
              "    <tr>\n",
              "      <th>1231</th>\n",
              "      <td>Norway</td>\n",
              "      <td>4979954</td>\n",
              "      <td>19.586546</td>\n",
              "      <td>NOR</td>\n",
              "      <td>2018</td>\n",
              "      <td>6.0</td>\n",
              "    </tr>\n",
              "  </tbody>\n",
              "</table>\n",
              "</div>"
            ],
            "text/plain": [
              "     Country  Population  Percentage_Y_A Codes  Time  Value\n",
              "1227  Norway     4979954       19.586546   NOR  2014    6.1\n",
              "1228  Norway     4979954       19.586546   NOR  2015    6.0\n",
              "1229  Norway     4979954       19.586546   NOR  2016    6.0\n",
              "1230  Norway     4979954       19.586546   NOR  2017    6.0\n",
              "1231  Norway     4979954       19.586546   NOR  2018    6.0"
            ]
          },
          "metadata": {
            "tags": []
          },
          "execution_count": 153
        }
      ]
    },
    {
      "cell_type": "code",
      "metadata": {
        "id": "_zGwWi0RdQDf",
        "colab_type": "code",
        "colab": {
          "base_uri": "https://localhost:8080/",
          "height": 35
        },
        "outputId": "6c74fe1e-2180-476c-b262-0a66c76348ff"
      },
      "source": [
        "df10.shape"
      ],
      "execution_count": 154,
      "outputs": [
        {
          "output_type": "execute_result",
          "data": {
            "text/plain": [
              "(1232, 6)"
            ]
          },
          "metadata": {
            "tags": []
          },
          "execution_count": 154
        }
      ]
    },
    {
      "cell_type": "code",
      "metadata": {
        "id": "fH3RoncFdXWL",
        "colab_type": "code",
        "colab": {
          "base_uri": "https://localhost:8080/",
          "height": 141
        },
        "outputId": "0b5c0c01-08fc-4c89-e97b-d853a66a17a9"
      },
      "source": [
        "df10.isnull().sum()"
      ],
      "execution_count": 155,
      "outputs": [
        {
          "output_type": "execute_result",
          "data": {
            "text/plain": [
              "Country           0\n",
              "Population        0\n",
              "Percentage_Y_A    0\n",
              "Codes             0\n",
              "Time              0\n",
              "Value             0\n",
              "dtype: int64"
            ]
          },
          "metadata": {
            "tags": []
          },
          "execution_count": 155
        }
      ]
    },
    {
      "cell_type": "code",
      "metadata": {
        "id": "E3L1Oq17dbE7",
        "colab_type": "code",
        "colab": {
          "base_uri": "https://localhost:8080/",
          "height": 282
        },
        "outputId": "8493b018-2d00-447e-bbce-6d9edee05f51"
      },
      "source": [
        "df10.describe()"
      ],
      "execution_count": 156,
      "outputs": [
        {
          "output_type": "execute_result",
          "data": {
            "text/html": [
              "<div>\n",
              "<style scoped>\n",
              "    .dataframe tbody tr th:only-of-type {\n",
              "        vertical-align: middle;\n",
              "    }\n",
              "\n",
              "    .dataframe tbody tr th {\n",
              "        vertical-align: top;\n",
              "    }\n",
              "\n",
              "    .dataframe thead th {\n",
              "        text-align: right;\n",
              "    }\n",
              "</style>\n",
              "<table border=\"1\" class=\"dataframe\">\n",
              "  <thead>\n",
              "    <tr style=\"text-align: right;\">\n",
              "      <th></th>\n",
              "      <th>Population</th>\n",
              "      <th>Percentage_Y_A</th>\n",
              "      <th>Time</th>\n",
              "      <th>Value</th>\n",
              "    </tr>\n",
              "  </thead>\n",
              "  <tbody>\n",
              "    <tr>\n",
              "      <th>count</th>\n",
              "      <td>1.232000e+03</td>\n",
              "      <td>1232.000000</td>\n",
              "      <td>1232.000000</td>\n",
              "      <td>1232.000000</td>\n",
              "    </tr>\n",
              "    <tr>\n",
              "      <th>mean</th>\n",
              "      <td>2.093559e+07</td>\n",
              "      <td>18.821175</td>\n",
              "      <td>1990.383117</td>\n",
              "      <td>11.119481</td>\n",
              "    </tr>\n",
              "    <tr>\n",
              "      <th>std</th>\n",
              "      <td>2.407804e+07</td>\n",
              "      <td>1.554206</td>\n",
              "      <td>16.144433</td>\n",
              "      <td>3.526056</td>\n",
              "    </tr>\n",
              "    <tr>\n",
              "      <th>min</th>\n",
              "      <td>5.123530e+05</td>\n",
              "      <td>15.474973</td>\n",
              "      <td>1960.000000</td>\n",
              "      <td>2.700000</td>\n",
              "    </tr>\n",
              "    <tr>\n",
              "      <th>25%</th>\n",
              "      <td>5.375276e+06</td>\n",
              "      <td>18.082004</td>\n",
              "      <td>1977.000000</td>\n",
              "      <td>8.875000</td>\n",
              "    </tr>\n",
              "    <tr>\n",
              "      <th>50%</th>\n",
              "      <td>9.937628e+06</td>\n",
              "      <td>18.677544</td>\n",
              "      <td>1991.000000</td>\n",
              "      <td>11.000000</td>\n",
              "    </tr>\n",
              "    <tr>\n",
              "      <th>75%</th>\n",
              "      <td>3.804456e+07</td>\n",
              "      <td>19.688363</td>\n",
              "      <td>2004.000000</td>\n",
              "      <td>13.200000</td>\n",
              "    </tr>\n",
              "    <tr>\n",
              "      <th>max</th>\n",
              "      <td>8.021970e+07</td>\n",
              "      <td>21.915808</td>\n",
              "      <td>2018.000000</td>\n",
              "      <td>23.200000</td>\n",
              "    </tr>\n",
              "  </tbody>\n",
              "</table>\n",
              "</div>"
            ],
            "text/plain": [
              "         Population  Percentage_Y_A         Time        Value\n",
              "count  1.232000e+03     1232.000000  1232.000000  1232.000000\n",
              "mean   2.093559e+07       18.821175  1990.383117    11.119481\n",
              "std    2.407804e+07        1.554206    16.144433     3.526056\n",
              "min    5.123530e+05       15.474973  1960.000000     2.700000\n",
              "25%    5.375276e+06       18.082004  1977.000000     8.875000\n",
              "50%    9.937628e+06       18.677544  1991.000000    11.000000\n",
              "75%    3.804456e+07       19.688363  2004.000000    13.200000\n",
              "max    8.021970e+07       21.915808  2018.000000    23.200000"
            ]
          },
          "metadata": {
            "tags": []
          },
          "execution_count": 156
        }
      ]
    },
    {
      "cell_type": "code",
      "metadata": {
        "id": "UGkwzWjXc90V",
        "colab_type": "code",
        "colab": {
          "base_uri": "https://localhost:8080/",
          "height": 550
        },
        "outputId": "eaf1579e-ff19-477d-b977-167fa97e08ce"
      },
      "source": [
        "import matplotlib.pyplot as plt\n",
        "plt.style.use('fivethirtyeight')\n",
        "fig, ax = plt.subplots(figsize = [15,6])\n",
        "df10.groupby(\"Country\").Value.mean().sort_values(ascending=False)[:29].plot.bar(color = ['green','pink'])\n",
        "plt.title(\"ANNUAL MEAN CONSUMPTION OF ALCOHOL IN EUROPE(1963-2018)\",loc = 'center', color = 'green', fontsize = 16)\n",
        "plt.ylabel('Liters Per Person', fontsize = 12)\n",
        "plt.xlabel('Countries', fontsize = 12)"
      ],
      "execution_count": 157,
      "outputs": [
        {
          "output_type": "execute_result",
          "data": {
            "text/plain": [
              "Text(0.5, 0, 'Countries')"
            ]
          },
          "metadata": {
            "tags": []
          },
          "execution_count": 157
        },
        {
          "output_type": "display_data",
          "data": {
            "image/png": "[encoded data removed]",
            "text/plain": [
              "<Figure size 1080x432 with 1 Axes>"
            ]
          },
          "metadata": {
            "tags": []
          }
        }
      ]
    },
    {
      "cell_type": "code",
      "metadata": {
        "id": "a3RymfcuII5B",
        "colab_type": "code",
        "colab": {
          "base_uri": "https://localhost:8080/",
          "height": 194
        },
        "outputId": "1e004cb2-4096-42ca-8e6c-7890853d7cc6"
      },
      "source": [
        "sixties = [1963, 1964, 1965, 1966, 1967, 1968, 1969]\n",
        "\n",
        "df_60 = df10[df10.Time.isin(sixties)]\n",
        "df_60.head()"
      ],
      "execution_count": 158,
      "outputs": [
        {
          "output_type": "execute_result",
          "data": {
            "text/html": [
              "<div>\n",
              "<style scoped>\n",
              "    .dataframe tbody tr th:only-of-type {\n",
              "        vertical-align: middle;\n",
              "    }\n",
              "\n",
              "    .dataframe tbody tr th {\n",
              "        vertical-align: top;\n",
              "    }\n",
              "\n",
              "    .dataframe thead th {\n",
              "        text-align: right;\n",
              "    }\n",
              "</style>\n",
              "<table border=\"1\" class=\"dataframe\">\n",
              "  <thead>\n",
              "    <tr style=\"text-align: right;\">\n",
              "      <th></th>\n",
              "      <th>Country</th>\n",
              "      <th>Population</th>\n",
              "      <th>Percentage_Y_A</th>\n",
              "      <th>Codes</th>\n",
              "      <th>Time</th>\n",
              "      <th>Value</th>\n",
              "    </tr>\n",
              "  </thead>\n",
              "  <tbody>\n",
              "    <tr>\n",
              "      <th>0</th>\n",
              "      <td>Belgium</td>\n",
              "      <td>11000638</td>\n",
              "      <td>18.485146</td>\n",
              "      <td>BEL</td>\n",
              "      <td>1963</td>\n",
              "      <td>9.9</td>\n",
              "    </tr>\n",
              "    <tr>\n",
              "      <th>1</th>\n",
              "      <td>Belgium</td>\n",
              "      <td>11000638</td>\n",
              "      <td>18.485146</td>\n",
              "      <td>BEL</td>\n",
              "      <td>1964</td>\n",
              "      <td>10.5</td>\n",
              "    </tr>\n",
              "    <tr>\n",
              "      <th>2</th>\n",
              "      <td>Belgium</td>\n",
              "      <td>11000638</td>\n",
              "      <td>18.485146</td>\n",
              "      <td>BEL</td>\n",
              "      <td>1965</td>\n",
              "      <td>10.8</td>\n",
              "    </tr>\n",
              "    <tr>\n",
              "      <th>3</th>\n",
              "      <td>Belgium</td>\n",
              "      <td>11000638</td>\n",
              "      <td>18.485146</td>\n",
              "      <td>BEL</td>\n",
              "      <td>1966</td>\n",
              "      <td>10.3</td>\n",
              "    </tr>\n",
              "    <tr>\n",
              "      <th>4</th>\n",
              "      <td>Belgium</td>\n",
              "      <td>11000638</td>\n",
              "      <td>18.485146</td>\n",
              "      <td>BEL</td>\n",
              "      <td>1967</td>\n",
              "      <td>10.7</td>\n",
              "    </tr>\n",
              "  </tbody>\n",
              "</table>\n",
              "</div>"
            ],
            "text/plain": [
              "   Country  Population  Percentage_Y_A Codes  Time  Value\n",
              "0  Belgium    11000638       18.485146   BEL  1963    9.9\n",
              "1  Belgium    11000638       18.485146   BEL  1964   10.5\n",
              "2  Belgium    11000638       18.485146   BEL  1965   10.8\n",
              "3  Belgium    11000638       18.485146   BEL  1966   10.3\n",
              "4  Belgium    11000638       18.485146   BEL  1967   10.7"
            ]
          },
          "metadata": {
            "tags": []
          },
          "execution_count": 158
        }
      ]
    },
    {
      "cell_type": "code",
      "metadata": {
        "id": "S2vG-dvxKVur",
        "colab_type": "code",
        "colab": {
          "base_uri": "https://localhost:8080/",
          "height": 217
        },
        "outputId": "8b3235ce-10f4-43c9-9d8a-85f99ded035f"
      },
      "source": [
        "import matplotlib.pyplot as plt\n",
        "\n",
        "fig, ax = plt.subplots(figsize = [4,2])\n",
        "\n",
        "plt1 = df_60.groupby(\"Country\").Value.mean().sort_values(ascending=False)[:5].plot.barh(color = ['blue','grey','grey','grey', 'grey'])\n",
        "plt.title(\"CONSUMPTION OF ALCOHOL IN EUROPE IN 60's\",loc = 'left', color = 'blue', fontsize = 14)\n",
        "plt.xlabel('Liters Per Person', fontsize = 12)\n",
        "plt.ylabel('Countries', fontsize = 12)\n",
        "\n",
        "\n",
        "\n"
      ],
      "execution_count": 159,
      "outputs": [
        {
          "output_type": "execute_result",
          "data": {
            "text/plain": [
              "Text(0, 0.5, 'Countries')"
            ]
          },
          "metadata": {
            "tags": []
          },
          "execution_count": 159
        },
        {
          "output_type": "display_data",
          "data": {
            "image/png": "[encoded data removed]",
            "text/plain": [
              "<Figure size 288x144 with 1 Axes>"
            ]
          },
          "metadata": {
            "tags": []
          }
        }
      ]
    },
    {
      "cell_type": "code",
      "metadata": {
        "id": "v91WMOq_dMl0",
        "colab_type": "code",
        "colab": {}
      },
      "source": [
        "seventies = [1970, 1971, 1972, 1973, 1974, 1975, 1976, 1977, 1978, 1979]"
      ],
      "execution_count": 0,
      "outputs": []
    },
    {
      "cell_type": "code",
      "metadata": {
        "id": "nyIE_c_NdZQa",
        "colab_type": "code",
        "colab": {
          "base_uri": "https://localhost:8080/",
          "height": 194
        },
        "outputId": "da1bbf61-3555-4a85-8b66-84ea52a112c0"
      },
      "source": [
        "df_70 = df10[df10.Time.isin(seventies)]\n",
        "df_70.head()"
      ],
      "execution_count": 161,
      "outputs": [
        {
          "output_type": "execute_result",
          "data": {
            "text/html": [
              "<div>\n",
              "<style scoped>\n",
              "    .dataframe tbody tr th:only-of-type {\n",
              "        vertical-align: middle;\n",
              "    }\n",
              "\n",
              "    .dataframe tbody tr th {\n",
              "        vertical-align: top;\n",
              "    }\n",
              "\n",
              "    .dataframe thead th {\n",
              "        text-align: right;\n",
              "    }\n",
              "</style>\n",
              "<table border=\"1\" class=\"dataframe\">\n",
              "  <thead>\n",
              "    <tr style=\"text-align: right;\">\n",
              "      <th></th>\n",
              "      <th>Country</th>\n",
              "      <th>Population</th>\n",
              "      <th>Percentage_Y_A</th>\n",
              "      <th>Codes</th>\n",
              "      <th>Time</th>\n",
              "      <th>Value</th>\n",
              "    </tr>\n",
              "  </thead>\n",
              "  <tbody>\n",
              "    <tr>\n",
              "      <th>7</th>\n",
              "      <td>Belgium</td>\n",
              "      <td>11000638</td>\n",
              "      <td>18.485146</td>\n",
              "      <td>BEL</td>\n",
              "      <td>1970</td>\n",
              "      <td>12.4</td>\n",
              "    </tr>\n",
              "    <tr>\n",
              "      <th>8</th>\n",
              "      <td>Belgium</td>\n",
              "      <td>11000638</td>\n",
              "      <td>18.485146</td>\n",
              "      <td>BEL</td>\n",
              "      <td>1971</td>\n",
              "      <td>12.6</td>\n",
              "    </tr>\n",
              "    <tr>\n",
              "      <th>9</th>\n",
              "      <td>Belgium</td>\n",
              "      <td>11000638</td>\n",
              "      <td>18.485146</td>\n",
              "      <td>BEL</td>\n",
              "      <td>1972</td>\n",
              "      <td>13.0</td>\n",
              "    </tr>\n",
              "    <tr>\n",
              "      <th>10</th>\n",
              "      <td>Belgium</td>\n",
              "      <td>11000638</td>\n",
              "      <td>18.485146</td>\n",
              "      <td>BEL</td>\n",
              "      <td>1973</td>\n",
              "      <td>13.8</td>\n",
              "    </tr>\n",
              "    <tr>\n",
              "      <th>11</th>\n",
              "      <td>Belgium</td>\n",
              "      <td>11000638</td>\n",
              "      <td>18.485146</td>\n",
              "      <td>BEL</td>\n",
              "      <td>1974</td>\n",
              "      <td>13.4</td>\n",
              "    </tr>\n",
              "  </tbody>\n",
              "</table>\n",
              "</div>"
            ],
            "text/plain": [
              "    Country  Population  Percentage_Y_A Codes  Time  Value\n",
              "7   Belgium    11000638       18.485146   BEL  1970   12.4\n",
              "8   Belgium    11000638       18.485146   BEL  1971   12.6\n",
              "9   Belgium    11000638       18.485146   BEL  1972   13.0\n",
              "10  Belgium    11000638       18.485146   BEL  1973   13.8\n",
              "11  Belgium    11000638       18.485146   BEL  1974   13.4"
            ]
          },
          "metadata": {
            "tags": []
          },
          "execution_count": 161
        }
      ]
    },
    {
      "cell_type": "code",
      "metadata": {
        "id": "hObGjeMb5wDS",
        "colab_type": "code",
        "colab": {
          "base_uri": "https://localhost:8080/",
          "height": 217
        },
        "outputId": "9e6f120c-2024-46d4-dc77-14ccb3dd6672"
      },
      "source": [
        "fig, ax = plt.subplots(figsize = [4,2])\n",
        "\n",
        "plt2 = df_70.groupby(\"Country\").Value.mean().sort_values(ascending=False)[:5].plot.barh(color = ['red','grey', 'grey','grey','grey'])\n",
        "plt.title(\"CONSUMPTION OF ALCOHOL IN EUROPE IN 70's\",loc = 'left', color = 'red', fontsize = 14)\n",
        "plt.xlabel('Liters Per Person', fontsize = 12)\n",
        "plt.ylabel('Countries', fontsize = 12)"
      ],
      "execution_count": 162,
      "outputs": [
        {
          "output_type": "execute_result",
          "data": {
            "text/plain": [
              "Text(0, 0.5, 'Countries')"
            ]
          },
          "metadata": {
            "tags": []
          },
          "execution_count": 162
        },
        {
          "output_type": "display_data",
          "data": {
            "image/png": "[encoded data removed]",
            "text/plain": [
              "<Figure size 288x144 with 1 Axes>"
            ]
          },
          "metadata": {
            "tags": []
          }
        }
      ]
    },
    {
      "cell_type": "code",
      "metadata": {
        "id": "eTVptTZN6aYQ",
        "colab_type": "code",
        "colab": {}
      },
      "source": [
        "eighties = [1980, 1981, 1982, 1983, 1984, 1985, 1986, 1987, 1988, 1989]"
      ],
      "execution_count": 0,
      "outputs": []
    },
    {
      "cell_type": "code",
      "metadata": {
        "id": "i-puwJA76oKn",
        "colab_type": "code",
        "colab": {
          "base_uri": "https://localhost:8080/",
          "height": 194
        },
        "outputId": "7f78cdee-e83d-439d-d726-5829bc620af8"
      },
      "source": [
        "df_80 = df10[df10.Time.isin(eighties)]\n",
        "df_80.head()"
      ],
      "execution_count": 39,
      "outputs": [
        {
          "output_type": "execute_result",
          "data": {
            "text/html": [
              "<div>\n",
              "<style scoped>\n",
              "    .dataframe tbody tr th:only-of-type {\n",
              "        vertical-align: middle;\n",
              "    }\n",
              "\n",
              "    .dataframe tbody tr th {\n",
              "        vertical-align: top;\n",
              "    }\n",
              "\n",
              "    .dataframe thead th {\n",
              "        text-align: right;\n",
              "    }\n",
              "</style>\n",
              "<table border=\"1\" class=\"dataframe\">\n",
              "  <thead>\n",
              "    <tr style=\"text-align: right;\">\n",
              "      <th></th>\n",
              "      <th>Country</th>\n",
              "      <th>Population</th>\n",
              "      <th>Percentage_Y_A</th>\n",
              "      <th>Codes</th>\n",
              "      <th>Time</th>\n",
              "      <th>Value</th>\n",
              "    </tr>\n",
              "  </thead>\n",
              "  <tbody>\n",
              "    <tr>\n",
              "      <th>17</th>\n",
              "      <td>Belgium</td>\n",
              "      <td>11000638</td>\n",
              "      <td>18.485146</td>\n",
              "      <td>BEL</td>\n",
              "      <td>1980</td>\n",
              "      <td>14.0</td>\n",
              "    </tr>\n",
              "    <tr>\n",
              "      <th>18</th>\n",
              "      <td>Belgium</td>\n",
              "      <td>11000638</td>\n",
              "      <td>18.485146</td>\n",
              "      <td>BEL</td>\n",
              "      <td>1981</td>\n",
              "      <td>13.3</td>\n",
              "    </tr>\n",
              "    <tr>\n",
              "      <th>19</th>\n",
              "      <td>Belgium</td>\n",
              "      <td>11000638</td>\n",
              "      <td>18.485146</td>\n",
              "      <td>BEL</td>\n",
              "      <td>1982</td>\n",
              "      <td>13.7</td>\n",
              "    </tr>\n",
              "    <tr>\n",
              "      <th>20</th>\n",
              "      <td>Belgium</td>\n",
              "      <td>11000638</td>\n",
              "      <td>18.485146</td>\n",
              "      <td>BEL</td>\n",
              "      <td>1983</td>\n",
              "      <td>13.6</td>\n",
              "    </tr>\n",
              "    <tr>\n",
              "      <th>21</th>\n",
              "      <td>Belgium</td>\n",
              "      <td>11000638</td>\n",
              "      <td>18.485146</td>\n",
              "      <td>BEL</td>\n",
              "      <td>1984</td>\n",
              "      <td>13.3</td>\n",
              "    </tr>\n",
              "  </tbody>\n",
              "</table>\n",
              "</div>"
            ],
            "text/plain": [
              "    Country  Population  Percentage_Y_A Codes  Time  Value\n",
              "17  Belgium    11000638       18.485146   BEL  1980   14.0\n",
              "18  Belgium    11000638       18.485146   BEL  1981   13.3\n",
              "19  Belgium    11000638       18.485146   BEL  1982   13.7\n",
              "20  Belgium    11000638       18.485146   BEL  1983   13.6\n",
              "21  Belgium    11000638       18.485146   BEL  1984   13.3"
            ]
          },
          "metadata": {
            "tags": []
          },
          "execution_count": 39
        }
      ]
    },
    {
      "cell_type": "code",
      "metadata": {
        "id": "Xwv2FaYc6zuY",
        "colab_type": "code",
        "colab": {
          "base_uri": "https://localhost:8080/",
          "height": 217
        },
        "outputId": "b10929fa-1745-4060-c72d-60e26b1ce048"
      },
      "source": [
        "fig, ax = plt.subplots(figsize = [4,2])\n",
        "\n",
        "plt3 = df_80.groupby(\"Country\").Value.mean().sort_values(ascending=False)[:5].plot.barh(color = ['green','grey','grey','grey', 'grey'])\n",
        "plt.title(\"CONSUMPTION OF ALCOHOL IN EUROPE IN 80's\",loc = 'center', color = 'green', fontsize = 14)\n",
        "plt.xlabel('Liters Per Person', fontsize = 12)\n",
        "plt.ylabel('Countries', fontsize = 12)"
      ],
      "execution_count": 164,
      "outputs": [
        {
          "output_type": "execute_result",
          "data": {
            "text/plain": [
              "Text(0, 0.5, 'Countries')"
            ]
          },
          "metadata": {
            "tags": []
          },
          "execution_count": 164
        },
        {
          "output_type": "display_data",
          "data": {
            "image/png": "[encoded data removed]",
            "text/plain": [
              "<Figure size 288x144 with 1 Axes>"
            ]
          },
          "metadata": {
            "tags": []
          }
        }
      ]
    },
    {
      "cell_type": "code",
      "metadata": {
        "id": "zShGRDmZ78oL",
        "colab_type": "code",
        "colab": {}
      },
      "source": [
        "nineties = [1990, 1991, 1992, 1993, 1994, 1995, 1996, 1997, 1998, 1999]"
      ],
      "execution_count": 0,
      "outputs": []
    },
    {
      "cell_type": "code",
      "metadata": {
        "id": "0b9M4L1Y8HXR",
        "colab_type": "code",
        "colab": {
          "base_uri": "https://localhost:8080/",
          "height": 194
        },
        "outputId": "db53c28a-7a00-4970-abf7-ee6c4a268b2a"
      },
      "source": [
        "df_90 = df10[df10.Time.isin(nineties)]\n",
        "df_90.head()"
      ],
      "execution_count": 166,
      "outputs": [
        {
          "output_type": "execute_result",
          "data": {
            "text/html": [
              "<div>\n",
              "<style scoped>\n",
              "    .dataframe tbody tr th:only-of-type {\n",
              "        vertical-align: middle;\n",
              "    }\n",
              "\n",
              "    .dataframe tbody tr th {\n",
              "        vertical-align: top;\n",
              "    }\n",
              "\n",
              "    .dataframe thead th {\n",
              "        text-align: right;\n",
              "    }\n",
              "</style>\n",
              "<table border=\"1\" class=\"dataframe\">\n",
              "  <thead>\n",
              "    <tr style=\"text-align: right;\">\n",
              "      <th></th>\n",
              "      <th>Country</th>\n",
              "      <th>Population</th>\n",
              "      <th>Percentage_Y_A</th>\n",
              "      <th>Codes</th>\n",
              "      <th>Time</th>\n",
              "      <th>Value</th>\n",
              "    </tr>\n",
              "  </thead>\n",
              "  <tbody>\n",
              "    <tr>\n",
              "      <th>27</th>\n",
              "      <td>Belgium</td>\n",
              "      <td>11000638</td>\n",
              "      <td>18.485146</td>\n",
              "      <td>BEL</td>\n",
              "      <td>1990</td>\n",
              "      <td>12.2</td>\n",
              "    </tr>\n",
              "    <tr>\n",
              "      <th>28</th>\n",
              "      <td>Belgium</td>\n",
              "      <td>11000638</td>\n",
              "      <td>18.485146</td>\n",
              "      <td>BEL</td>\n",
              "      <td>1991</td>\n",
              "      <td>11.4</td>\n",
              "    </tr>\n",
              "    <tr>\n",
              "      <th>29</th>\n",
              "      <td>Belgium</td>\n",
              "      <td>11000638</td>\n",
              "      <td>18.485146</td>\n",
              "      <td>BEL</td>\n",
              "      <td>1992</td>\n",
              "      <td>11.7</td>\n",
              "    </tr>\n",
              "    <tr>\n",
              "      <th>30</th>\n",
              "      <td>Belgium</td>\n",
              "      <td>11000638</td>\n",
              "      <td>18.485146</td>\n",
              "      <td>BEL</td>\n",
              "      <td>1993</td>\n",
              "      <td>11.7</td>\n",
              "    </tr>\n",
              "    <tr>\n",
              "      <th>31</th>\n",
              "      <td>Belgium</td>\n",
              "      <td>11000638</td>\n",
              "      <td>18.485146</td>\n",
              "      <td>BEL</td>\n",
              "      <td>1994</td>\n",
              "      <td>11.1</td>\n",
              "    </tr>\n",
              "  </tbody>\n",
              "</table>\n",
              "</div>"
            ],
            "text/plain": [
              "    Country  Population  Percentage_Y_A Codes  Time  Value\n",
              "27  Belgium    11000638       18.485146   BEL  1990   12.2\n",
              "28  Belgium    11000638       18.485146   BEL  1991   11.4\n",
              "29  Belgium    11000638       18.485146   BEL  1992   11.7\n",
              "30  Belgium    11000638       18.485146   BEL  1993   11.7\n",
              "31  Belgium    11000638       18.485146   BEL  1994   11.1"
            ]
          },
          "metadata": {
            "tags": []
          },
          "execution_count": 166
        }
      ]
    },
    {
      "cell_type": "code",
      "metadata": {
        "id": "WF_aHdmJ8RPR",
        "colab_type": "code",
        "colab": {
          "base_uri": "https://localhost:8080/",
          "height": 217
        },
        "outputId": "d4ddc79e-6a4a-4695-fe00-563511a51d06"
      },
      "source": [
        "fig, ax = plt.subplots(figsize = [4,2])\n",
        "\n",
        "plt4 = df_90.groupby(\"Country\").Value.mean().sort_values(ascending=False)[:5].plot.barh(color = ['purple','grey','grey','grey', 'grey'])\n",
        "plt.title(\"CONSUMPTION OF ALCOHOL IN EUROPE IN 90's\", loc = 'center', color = 'purple', fontsize = 14)\n",
        "plt.xlabel('Liters Per Person', fontsize = 12)\n",
        "plt.ylabel('Countries', fontsize = 12)\n"
      ],
      "execution_count": 167,
      "outputs": [
        {
          "output_type": "execute_result",
          "data": {
            "text/plain": [
              "Text(0, 0.5, 'Countries')"
            ]
          },
          "metadata": {
            "tags": []
          },
          "execution_count": 167
        },
        {
          "output_type": "display_data",
          "data": {
            "image/png": "[encoded data removed]",
            "text/plain": [
              "<Figure size 288x144 with 1 Axes>"
            ]
          },
          "metadata": {
            "tags": []
          }
        }
      ]
    },
    {
      "cell_type": "code",
      "metadata": {
        "id": "0T_8QuT28eah",
        "colab_type": "code",
        "colab": {}
      },
      "source": [
        "twenties = [2000,2001,2002,2003,2004,2005,2006,2007,2008,2009,2010]\n"
      ],
      "execution_count": 0,
      "outputs": []
    },
    {
      "cell_type": "code",
      "metadata": {
        "id": "__673kD-9XqI",
        "colab_type": "code",
        "colab": {
          "base_uri": "https://localhost:8080/",
          "height": 194
        },
        "outputId": "70ce8059-17ec-4038-ddfc-d14cad5f0fc7"
      },
      "source": [
        "df_00 = df10[df10.Time.isin(twenties)]\n",
        "df_00.head()"
      ],
      "execution_count": 169,
      "outputs": [
        {
          "output_type": "execute_result",
          "data": {
            "text/html": [
              "<div>\n",
              "<style scoped>\n",
              "    .dataframe tbody tr th:only-of-type {\n",
              "        vertical-align: middle;\n",
              "    }\n",
              "\n",
              "    .dataframe tbody tr th {\n",
              "        vertical-align: top;\n",
              "    }\n",
              "\n",
              "    .dataframe thead th {\n",
              "        text-align: right;\n",
              "    }\n",
              "</style>\n",
              "<table border=\"1\" class=\"dataframe\">\n",
              "  <thead>\n",
              "    <tr style=\"text-align: right;\">\n",
              "      <th></th>\n",
              "      <th>Country</th>\n",
              "      <th>Population</th>\n",
              "      <th>Percentage_Y_A</th>\n",
              "      <th>Codes</th>\n",
              "      <th>Time</th>\n",
              "      <th>Value</th>\n",
              "    </tr>\n",
              "  </thead>\n",
              "  <tbody>\n",
              "    <tr>\n",
              "      <th>37</th>\n",
              "      <td>Belgium</td>\n",
              "      <td>11000638</td>\n",
              "      <td>18.485146</td>\n",
              "      <td>BEL</td>\n",
              "      <td>2000</td>\n",
              "      <td>11.3</td>\n",
              "    </tr>\n",
              "    <tr>\n",
              "      <th>38</th>\n",
              "      <td>Belgium</td>\n",
              "      <td>11000638</td>\n",
              "      <td>18.485146</td>\n",
              "      <td>BEL</td>\n",
              "      <td>2001</td>\n",
              "      <td>11.1</td>\n",
              "    </tr>\n",
              "    <tr>\n",
              "      <th>39</th>\n",
              "      <td>Belgium</td>\n",
              "      <td>11000638</td>\n",
              "      <td>18.485146</td>\n",
              "      <td>BEL</td>\n",
              "      <td>2002</td>\n",
              "      <td>11.3</td>\n",
              "    </tr>\n",
              "    <tr>\n",
              "      <th>40</th>\n",
              "      <td>Belgium</td>\n",
              "      <td>11000638</td>\n",
              "      <td>18.485146</td>\n",
              "      <td>BEL</td>\n",
              "      <td>2003</td>\n",
              "      <td>11.3</td>\n",
              "    </tr>\n",
              "    <tr>\n",
              "      <th>41</th>\n",
              "      <td>Belgium</td>\n",
              "      <td>11000638</td>\n",
              "      <td>18.485146</td>\n",
              "      <td>BEL</td>\n",
              "      <td>2004</td>\n",
              "      <td>12.1</td>\n",
              "    </tr>\n",
              "  </tbody>\n",
              "</table>\n",
              "</div>"
            ],
            "text/plain": [
              "    Country  Population  Percentage_Y_A Codes  Time  Value\n",
              "37  Belgium    11000638       18.485146   BEL  2000   11.3\n",
              "38  Belgium    11000638       18.485146   BEL  2001   11.1\n",
              "39  Belgium    11000638       18.485146   BEL  2002   11.3\n",
              "40  Belgium    11000638       18.485146   BEL  2003   11.3\n",
              "41  Belgium    11000638       18.485146   BEL  2004   12.1"
            ]
          },
          "metadata": {
            "tags": []
          },
          "execution_count": 169
        }
      ]
    },
    {
      "cell_type": "code",
      "metadata": {
        "id": "hK5p3cUg9jNq",
        "colab_type": "code",
        "colab": {
          "base_uri": "https://localhost:8080/",
          "height": 334
        },
        "outputId": "4455328f-3ba0-4f61-9fc6-705026308410"
      },
      "source": [
        "fig, ax = plt.subplots(figsize = [6,4])\n",
        "plt5 = df_00.groupby(\"Country\").Value.mean().sort_values(ascending=False)[:5].plot.barh(color = ['red','grey','grey','grey', 'grey'])\n",
        "plt.title('CONSUMPTION OF ALCOHOL IN EUROPE BETWEEN 2000-2010', loc = 'center', color = 'red', fontsize = 14)\n",
        "plt.xlabel('Liters Per Person', fontsize = 12)\n",
        "plt.ylabel('Countries', fontsize = 12)"
      ],
      "execution_count": 170,
      "outputs": [
        {
          "output_type": "execute_result",
          "data": {
            "text/plain": [
              "Text(0, 0.5, 'Countries')"
            ]
          },
          "metadata": {
            "tags": []
          },
          "execution_count": 170
        },
        {
          "output_type": "display_data",
          "data": {
            "image/png": "[encoded data removed]",
            "text/plain": [
              "<Figure size 432x288 with 1 Axes>"
            ]
          },
          "metadata": {
            "tags": []
          }
        }
      ]
    },
    {
      "cell_type": "code",
      "metadata": {
        "id": "rZeKYW6C9_1E",
        "colab_type": "code",
        "colab": {
          "base_uri": "https://localhost:8080/",
          "height": 194
        },
        "outputId": "14c6fb7f-fe89-4601-bd08-8533bbd3c29e"
      },
      "source": [
        "y_10_18 = [2011,2012,2013,2014,2015,2016,2017,2018]\n",
        "df_10_18 = df10[df10.Time.isin(y_10_18)]\n",
        "df_10_18.head()"
      ],
      "execution_count": 171,
      "outputs": [
        {
          "output_type": "execute_result",
          "data": {
            "text/html": [
              "<div>\n",
              "<style scoped>\n",
              "    .dataframe tbody tr th:only-of-type {\n",
              "        vertical-align: middle;\n",
              "    }\n",
              "\n",
              "    .dataframe tbody tr th {\n",
              "        vertical-align: top;\n",
              "    }\n",
              "\n",
              "    .dataframe thead th {\n",
              "        text-align: right;\n",
              "    }\n",
              "</style>\n",
              "<table border=\"1\" class=\"dataframe\">\n",
              "  <thead>\n",
              "    <tr style=\"text-align: right;\">\n",
              "      <th></th>\n",
              "      <th>Country</th>\n",
              "      <th>Population</th>\n",
              "      <th>Percentage_Y_A</th>\n",
              "      <th>Codes</th>\n",
              "      <th>Time</th>\n",
              "      <th>Value</th>\n",
              "    </tr>\n",
              "  </thead>\n",
              "  <tbody>\n",
              "    <tr>\n",
              "      <th>48</th>\n",
              "      <td>Belgium</td>\n",
              "      <td>11000638</td>\n",
              "      <td>18.485146</td>\n",
              "      <td>BEL</td>\n",
              "      <td>2011</td>\n",
              "      <td>10.1</td>\n",
              "    </tr>\n",
              "    <tr>\n",
              "      <th>49</th>\n",
              "      <td>Belgium</td>\n",
              "      <td>11000638</td>\n",
              "      <td>18.485146</td>\n",
              "      <td>BEL</td>\n",
              "      <td>2012</td>\n",
              "      <td>10.1</td>\n",
              "    </tr>\n",
              "    <tr>\n",
              "      <th>50</th>\n",
              "      <td>Belgium</td>\n",
              "      <td>11000638</td>\n",
              "      <td>18.485146</td>\n",
              "      <td>BEL</td>\n",
              "      <td>2013</td>\n",
              "      <td>10.3</td>\n",
              "    </tr>\n",
              "    <tr>\n",
              "      <th>51</th>\n",
              "      <td>Belgium</td>\n",
              "      <td>11000638</td>\n",
              "      <td>18.485146</td>\n",
              "      <td>BEL</td>\n",
              "      <td>2014</td>\n",
              "      <td>10.6</td>\n",
              "    </tr>\n",
              "    <tr>\n",
              "      <th>52</th>\n",
              "      <td>Belgium</td>\n",
              "      <td>11000638</td>\n",
              "      <td>18.485146</td>\n",
              "      <td>BEL</td>\n",
              "      <td>2015</td>\n",
              "      <td>10.4</td>\n",
              "    </tr>\n",
              "  </tbody>\n",
              "</table>\n",
              "</div>"
            ],
            "text/plain": [
              "    Country  Population  Percentage_Y_A Codes  Time  Value\n",
              "48  Belgium    11000638       18.485146   BEL  2011   10.1\n",
              "49  Belgium    11000638       18.485146   BEL  2012   10.1\n",
              "50  Belgium    11000638       18.485146   BEL  2013   10.3\n",
              "51  Belgium    11000638       18.485146   BEL  2014   10.6\n",
              "52  Belgium    11000638       18.485146   BEL  2015   10.4"
            ]
          },
          "metadata": {
            "tags": []
          },
          "execution_count": 171
        }
      ]
    },
    {
      "cell_type": "code",
      "metadata": {
        "id": "bhTAPoy9QWQs",
        "colab_type": "code",
        "colab": {
          "base_uri": "https://localhost:8080/",
          "height": 334
        },
        "outputId": "2cc2e8ba-5522-42e8-cc72-e3ced350bc8b"
      },
      "source": [
        "plt.style.use('fivethirtyeight')\n",
        "fig, ax = plt.subplots(figsize = [6,4])\n",
        "plt6 = df_10_18.groupby(\"Country\").Value.mean().sort_values(ascending=False)[:5].plot.barh(color = ['orange','grey','grey','grey', 'grey'])\n",
        "plt.title('CONSUMPTION OF ALCOHOL IN EUROPE BETWEEN 2011-2018',loc = 'center', color = 'orange', fontsize = 14)\n",
        "plt.xlabel('Liters Per Person', fontsize = 12)\n",
        "plt.ylabel('Countries', fontsize = 12)"
      ],
      "execution_count": 172,
      "outputs": [
        {
          "output_type": "execute_result",
          "data": {
            "text/plain": [
              "Text(0, 0.5, 'Countries')"
            ]
          },
          "metadata": {
            "tags": []
          },
          "execution_count": 172
        },
        {
          "output_type": "display_data",
          "data": {
            "image/png": "[encoded data removed]",
            "text/plain": [
              "<Figure size 432x288 with 1 Axes>"
            ]
          },
          "metadata": {
            "tags": []
          }
        }
      ]
    },
    {
      "cell_type": "code",
      "metadata": {
        "id": "XKUZy-ohL97B",
        "colab_type": "code",
        "colab": {}
      },
      "source": [
        "# uploading third dataset\n",
        "alc_url = 'https://raw.githubusercontent.com/fivethirtyeight/data/master/alcohol-consumption/drinks.csv'\n"
      ],
      "execution_count": 0,
      "outputs": []
    },
    {
      "cell_type": "code",
      "metadata": {
        "id": "3LWZQK6IOxkm",
        "colab_type": "code",
        "colab": {
          "base_uri": "https://localhost:8080/",
          "height": 194
        },
        "outputId": "8b6ca48d-8a5b-4836-e60f-fe4bdfa7805d"
      },
      "source": [
        "data = pd.read_csv(alc_url)\n",
        "data.head()"
      ],
      "execution_count": 175,
      "outputs": [
        {
          "output_type": "execute_result",
          "data": {
            "text/html": [
              "<div>\n",
              "<style scoped>\n",
              "    .dataframe tbody tr th:only-of-type {\n",
              "        vertical-align: middle;\n",
              "    }\n",
              "\n",
              "    .dataframe tbody tr th {\n",
              "        vertical-align: top;\n",
              "    }\n",
              "\n",
              "    .dataframe thead th {\n",
              "        text-align: right;\n",
              "    }\n",
              "</style>\n",
              "<table border=\"1\" class=\"dataframe\">\n",
              "  <thead>\n",
              "    <tr style=\"text-align: right;\">\n",
              "      <th></th>\n",
              "      <th>country</th>\n",
              "      <th>beer_servings</th>\n",
              "      <th>spirit_servings</th>\n",
              "      <th>wine_servings</th>\n",
              "      <th>total_litres_of_pure_alcohol</th>\n",
              "    </tr>\n",
              "  </thead>\n",
              "  <tbody>\n",
              "    <tr>\n",
              "      <th>0</th>\n",
              "      <td>Afghanistan</td>\n",
              "      <td>0</td>\n",
              "      <td>0</td>\n",
              "      <td>0</td>\n",
              "      <td>0.0</td>\n",
              "    </tr>\n",
              "    <tr>\n",
              "      <th>1</th>\n",
              "      <td>Albania</td>\n",
              "      <td>89</td>\n",
              "      <td>132</td>\n",
              "      <td>54</td>\n",
              "      <td>4.9</td>\n",
              "    </tr>\n",
              "    <tr>\n",
              "      <th>2</th>\n",
              "      <td>Algeria</td>\n",
              "      <td>25</td>\n",
              "      <td>0</td>\n",
              "      <td>14</td>\n",
              "      <td>0.7</td>\n",
              "    </tr>\n",
              "    <tr>\n",
              "      <th>3</th>\n",
              "      <td>Andorra</td>\n",
              "      <td>245</td>\n",
              "      <td>138</td>\n",
              "      <td>312</td>\n",
              "      <td>12.4</td>\n",
              "    </tr>\n",
              "    <tr>\n",
              "      <th>4</th>\n",
              "      <td>Angola</td>\n",
              "      <td>217</td>\n",
              "      <td>57</td>\n",
              "      <td>45</td>\n",
              "      <td>5.9</td>\n",
              "    </tr>\n",
              "  </tbody>\n",
              "</table>\n",
              "</div>"
            ],
            "text/plain": [
              "       country  beer_servings  ...  wine_servings  total_litres_of_pure_alcohol\n",
              "0  Afghanistan              0  ...              0                           0.0\n",
              "1      Albania             89  ...             54                           4.9\n",
              "2      Algeria             25  ...             14                           0.7\n",
              "3      Andorra            245  ...            312                          12.4\n",
              "4       Angola            217  ...             45                           5.9\n",
              "\n",
              "[5 rows x 5 columns]"
            ]
          },
          "metadata": {
            "tags": []
          },
          "execution_count": 175
        }
      ]
    },
    {
      "cell_type": "code",
      "metadata": {
        "id": "-HWuOeYEPDfU",
        "colab_type": "code",
        "colab": {}
      },
      "source": [
        "data_1 = [\"France\",\"Portugal\",\"Germany\",\"Austria\", \"Slovakia\"]"
      ],
      "execution_count": 0,
      "outputs": []
    },
    {
      "cell_type": "code",
      "metadata": {
        "id": "QmAPKorYPg6I",
        "colab_type": "code",
        "colab": {
          "base_uri": "https://localhost:8080/",
          "height": 194
        },
        "outputId": "1d4f9040-3e8f-425d-9005-e6ecd4bb6fc9"
      },
      "source": [
        "data_2= data[data.country.isin(data_1)]\n",
        "data_2.head()"
      ],
      "execution_count": 177,
      "outputs": [
        {
          "output_type": "execute_result",
          "data": {
            "text/html": [
              "<div>\n",
              "<style scoped>\n",
              "    .dataframe tbody tr th:only-of-type {\n",
              "        vertical-align: middle;\n",
              "    }\n",
              "\n",
              "    .dataframe tbody tr th {\n",
              "        vertical-align: top;\n",
              "    }\n",
              "\n",
              "    .dataframe thead th {\n",
              "        text-align: right;\n",
              "    }\n",
              "</style>\n",
              "<table border=\"1\" class=\"dataframe\">\n",
              "  <thead>\n",
              "    <tr style=\"text-align: right;\">\n",
              "      <th></th>\n",
              "      <th>country</th>\n",
              "      <th>beer_servings</th>\n",
              "      <th>spirit_servings</th>\n",
              "      <th>wine_servings</th>\n",
              "      <th>total_litres_of_pure_alcohol</th>\n",
              "    </tr>\n",
              "  </thead>\n",
              "  <tbody>\n",
              "    <tr>\n",
              "      <th>9</th>\n",
              "      <td>Austria</td>\n",
              "      <td>279</td>\n",
              "      <td>75</td>\n",
              "      <td>191</td>\n",
              "      <td>9.7</td>\n",
              "    </tr>\n",
              "    <tr>\n",
              "      <th>61</th>\n",
              "      <td>France</td>\n",
              "      <td>127</td>\n",
              "      <td>151</td>\n",
              "      <td>370</td>\n",
              "      <td>11.8</td>\n",
              "    </tr>\n",
              "    <tr>\n",
              "      <th>65</th>\n",
              "      <td>Germany</td>\n",
              "      <td>346</td>\n",
              "      <td>117</td>\n",
              "      <td>175</td>\n",
              "      <td>11.3</td>\n",
              "    </tr>\n",
              "    <tr>\n",
              "      <th>136</th>\n",
              "      <td>Portugal</td>\n",
              "      <td>194</td>\n",
              "      <td>67</td>\n",
              "      <td>339</td>\n",
              "      <td>11.0</td>\n",
              "    </tr>\n",
              "    <tr>\n",
              "      <th>155</th>\n",
              "      <td>Slovakia</td>\n",
              "      <td>196</td>\n",
              "      <td>293</td>\n",
              "      <td>116</td>\n",
              "      <td>11.4</td>\n",
              "    </tr>\n",
              "  </tbody>\n",
              "</table>\n",
              "</div>"
            ],
            "text/plain": [
              "      country  beer_servings  ...  wine_servings  total_litres_of_pure_alcohol\n",
              "9     Austria            279  ...            191                           9.7\n",
              "61     France            127  ...            370                          11.8\n",
              "65    Germany            346  ...            175                          11.3\n",
              "136  Portugal            194  ...            339                          11.0\n",
              "155  Slovakia            196  ...            116                          11.4\n",
              "\n",
              "[5 rows x 5 columns]"
            ]
          },
          "metadata": {
            "tags": []
          },
          "execution_count": 177
        }
      ]
    },
    {
      "cell_type": "code",
      "metadata": {
        "id": "jvUt_MIzN_gO",
        "colab_type": "code",
        "colab": {
          "base_uri": "https://localhost:8080/",
          "height": 194
        },
        "outputId": "5ec31310-7c37-42ab-b214-5fba2fafa0ea"
      },
      "source": [
        "data_2.head()"
      ],
      "execution_count": 178,
      "outputs": [
        {
          "output_type": "execute_result",
          "data": {
            "text/html": [
              "<div>\n",
              "<style scoped>\n",
              "    .dataframe tbody tr th:only-of-type {\n",
              "        vertical-align: middle;\n",
              "    }\n",
              "\n",
              "    .dataframe tbody tr th {\n",
              "        vertical-align: top;\n",
              "    }\n",
              "\n",
              "    .dataframe thead th {\n",
              "        text-align: right;\n",
              "    }\n",
              "</style>\n",
              "<table border=\"1\" class=\"dataframe\">\n",
              "  <thead>\n",
              "    <tr style=\"text-align: right;\">\n",
              "      <th></th>\n",
              "      <th>country</th>\n",
              "      <th>beer_servings</th>\n",
              "      <th>spirit_servings</th>\n",
              "      <th>wine_servings</th>\n",
              "      <th>total_litres_of_pure_alcohol</th>\n",
              "    </tr>\n",
              "  </thead>\n",
              "  <tbody>\n",
              "    <tr>\n",
              "      <th>9</th>\n",
              "      <td>Austria</td>\n",
              "      <td>279</td>\n",
              "      <td>75</td>\n",
              "      <td>191</td>\n",
              "      <td>9.7</td>\n",
              "    </tr>\n",
              "    <tr>\n",
              "      <th>61</th>\n",
              "      <td>France</td>\n",
              "      <td>127</td>\n",
              "      <td>151</td>\n",
              "      <td>370</td>\n",
              "      <td>11.8</td>\n",
              "    </tr>\n",
              "    <tr>\n",
              "      <th>65</th>\n",
              "      <td>Germany</td>\n",
              "      <td>346</td>\n",
              "      <td>117</td>\n",
              "      <td>175</td>\n",
              "      <td>11.3</td>\n",
              "    </tr>\n",
              "    <tr>\n",
              "      <th>136</th>\n",
              "      <td>Portugal</td>\n",
              "      <td>194</td>\n",
              "      <td>67</td>\n",
              "      <td>339</td>\n",
              "      <td>11.0</td>\n",
              "    </tr>\n",
              "    <tr>\n",
              "      <th>155</th>\n",
              "      <td>Slovakia</td>\n",
              "      <td>196</td>\n",
              "      <td>293</td>\n",
              "      <td>116</td>\n",
              "      <td>11.4</td>\n",
              "    </tr>\n",
              "  </tbody>\n",
              "</table>\n",
              "</div>"
            ],
            "text/plain": [
              "      country  beer_servings  ...  wine_servings  total_litres_of_pure_alcohol\n",
              "9     Austria            279  ...            191                           9.7\n",
              "61     France            127  ...            370                          11.8\n",
              "65    Germany            346  ...            175                          11.3\n",
              "136  Portugal            194  ...            339                          11.0\n",
              "155  Slovakia            196  ...            116                          11.4\n",
              "\n",
              "[5 rows x 5 columns]"
            ]
          },
          "metadata": {
            "tags": []
          },
          "execution_count": 178
        }
      ]
    },
    {
      "cell_type": "code",
      "metadata": {
        "id": "x19nXelvN0Bm",
        "colab_type": "code",
        "colab": {
          "base_uri": "https://localhost:8080/",
          "height": 569
        },
        "outputId": "54a73275-07c6-45c3-eb71-5c76a4b9d64b"
      },
      "source": [
        "\n",
        "fig, variable_ax = plt.subplots(figsize=[10,8])\n",
        "beer_servings = [279, 127, 346, 194, 196]\n",
        "wine_servings = [191,370,175,339,116]\n",
        "spirit_servings = [75,151,117,67,293]\n",
        "index = ['Austria','France','Germany','Portugal','Slovakia']\n",
        "\n",
        "\n",
        "df0 = pd.DataFrame({'beer_servings': beer_servings, 'wine_servings': wine_servings, 'spirit_servings': spirit_servings}, index=index)\n",
        "df0.plot.bar(rot=1, color = ['red', 'grey','green'], ax=variable_ax)\n",
        "plt.ylabel('Servings', fontsize = 12)\n",
        "plt.xlabel('Countries', fontsize = 12)\n",
        "plt.title('CONSUMPTION of BEER, WINE, and SPIRITS in 2010',loc = 'center', color = 'green', fontsize = 16)"
      ],
      "execution_count": 105,
      "outputs": [
        {
          "output_type": "execute_result",
          "data": {
            "text/plain": [
              "Text(0.5, 1.0, 'CONSUMPTION of BEER, WINE, and SPIRITS in 2010')"
            ]
          },
          "metadata": {
            "tags": []
          },
          "execution_count": 105
        },
        {
          "output_type": "display_data",
          "data": {
            "image/png": "[encoded data removed]",
            "text/plain": [
              "<Figure size 720x576 with 1 Axes>"
            ]
          },
          "metadata": {
            "tags": []
          }
        }
      ]
    },
    {
      "cell_type": "code",
      "metadata": {
        "id": "1W9_V9VoiYL9",
        "colab_type": "code",
        "colab": {
          "base_uri": "https://localhost:8080/",
          "height": 194
        },
        "outputId": "d2586282-4c30-4d2e-e27b-9eccb91d7b2e"
      },
      "source": [
        "df10.head()"
      ],
      "execution_count": 179,
      "outputs": [
        {
          "output_type": "execute_result",
          "data": {
            "text/html": [
              "<div>\n",
              "<style scoped>\n",
              "    .dataframe tbody tr th:only-of-type {\n",
              "        vertical-align: middle;\n",
              "    }\n",
              "\n",
              "    .dataframe tbody tr th {\n",
              "        vertical-align: top;\n",
              "    }\n",
              "\n",
              "    .dataframe thead th {\n",
              "        text-align: right;\n",
              "    }\n",
              "</style>\n",
              "<table border=\"1\" class=\"dataframe\">\n",
              "  <thead>\n",
              "    <tr style=\"text-align: right;\">\n",
              "      <th></th>\n",
              "      <th>Country</th>\n",
              "      <th>Population</th>\n",
              "      <th>Percentage_Y_A</th>\n",
              "      <th>Codes</th>\n",
              "      <th>Time</th>\n",
              "      <th>Value</th>\n",
              "    </tr>\n",
              "  </thead>\n",
              "  <tbody>\n",
              "    <tr>\n",
              "      <th>0</th>\n",
              "      <td>Belgium</td>\n",
              "      <td>11000638</td>\n",
              "      <td>18.485146</td>\n",
              "      <td>BEL</td>\n",
              "      <td>1963</td>\n",
              "      <td>9.9</td>\n",
              "    </tr>\n",
              "    <tr>\n",
              "      <th>1</th>\n",
              "      <td>Belgium</td>\n",
              "      <td>11000638</td>\n",
              "      <td>18.485146</td>\n",
              "      <td>BEL</td>\n",
              "      <td>1964</td>\n",
              "      <td>10.5</td>\n",
              "    </tr>\n",
              "    <tr>\n",
              "      <th>2</th>\n",
              "      <td>Belgium</td>\n",
              "      <td>11000638</td>\n",
              "      <td>18.485146</td>\n",
              "      <td>BEL</td>\n",
              "      <td>1965</td>\n",
              "      <td>10.8</td>\n",
              "    </tr>\n",
              "    <tr>\n",
              "      <th>3</th>\n",
              "      <td>Belgium</td>\n",
              "      <td>11000638</td>\n",
              "      <td>18.485146</td>\n",
              "      <td>BEL</td>\n",
              "      <td>1966</td>\n",
              "      <td>10.3</td>\n",
              "    </tr>\n",
              "    <tr>\n",
              "      <th>4</th>\n",
              "      <td>Belgium</td>\n",
              "      <td>11000638</td>\n",
              "      <td>18.485146</td>\n",
              "      <td>BEL</td>\n",
              "      <td>1967</td>\n",
              "      <td>10.7</td>\n",
              "    </tr>\n",
              "  </tbody>\n",
              "</table>\n",
              "</div>"
            ],
            "text/plain": [
              "   Country  Population  Percentage_Y_A Codes  Time  Value\n",
              "0  Belgium    11000638       18.485146   BEL  1963    9.9\n",
              "1  Belgium    11000638       18.485146   BEL  1964   10.5\n",
              "2  Belgium    11000638       18.485146   BEL  1965   10.8\n",
              "3  Belgium    11000638       18.485146   BEL  1966   10.3\n",
              "4  Belgium    11000638       18.485146   BEL  1967   10.7"
            ]
          },
          "metadata": {
            "tags": []
          },
          "execution_count": 179
        }
      ]
    },
    {
      "cell_type": "code",
      "metadata": {
        "id": "4T5zQP5cklTo",
        "colab_type": "code",
        "colab": {}
      },
      "source": [
        "SVK = ['Slovakia']\n",
        "FRA = ['France']\n",
        "GER = ['Germany']\n",
        "\n"
      ],
      "execution_count": 0,
      "outputs": []
    },
    {
      "cell_type": "code",
      "metadata": {
        "id": "cn5ybZeO6cHm",
        "colab_type": "code",
        "colab": {
          "base_uri": "https://localhost:8080/",
          "height": 194
        },
        "outputId": "6d316ab8-2330-4938-f56d-f49c84e83ab7"
      },
      "source": [
        "newSVK = df10[df10.Country.isin(SVK)]\n",
        "newSVK.head()"
      ],
      "execution_count": 181,
      "outputs": [
        {
          "output_type": "execute_result",
          "data": {
            "text/html": [
              "<div>\n",
              "<style scoped>\n",
              "    .dataframe tbody tr th:only-of-type {\n",
              "        vertical-align: middle;\n",
              "    }\n",
              "\n",
              "    .dataframe tbody tr th {\n",
              "        vertical-align: top;\n",
              "    }\n",
              "\n",
              "    .dataframe thead th {\n",
              "        text-align: right;\n",
              "    }\n",
              "</style>\n",
              "<table border=\"1\" class=\"dataframe\">\n",
              "  <thead>\n",
              "    <tr style=\"text-align: right;\">\n",
              "      <th></th>\n",
              "      <th>Country</th>\n",
              "      <th>Population</th>\n",
              "      <th>Percentage_Y_A</th>\n",
              "      <th>Codes</th>\n",
              "      <th>Time</th>\n",
              "      <th>Value</th>\n",
              "    </tr>\n",
              "  </thead>\n",
              "  <tbody>\n",
              "    <tr>\n",
              "      <th>942</th>\n",
              "      <td>Slovakia</td>\n",
              "      <td>5397036</td>\n",
              "      <td>21.908599</td>\n",
              "      <td>SVK</td>\n",
              "      <td>1960</td>\n",
              "      <td>6.9</td>\n",
              "    </tr>\n",
              "    <tr>\n",
              "      <th>943</th>\n",
              "      <td>Slovakia</td>\n",
              "      <td>5397036</td>\n",
              "      <td>21.908599</td>\n",
              "      <td>SVK</td>\n",
              "      <td>1961</td>\n",
              "      <td>7.1</td>\n",
              "    </tr>\n",
              "    <tr>\n",
              "      <th>944</th>\n",
              "      <td>Slovakia</td>\n",
              "      <td>5397036</td>\n",
              "      <td>21.908599</td>\n",
              "      <td>SVK</td>\n",
              "      <td>1962</td>\n",
              "      <td>7.4</td>\n",
              "    </tr>\n",
              "    <tr>\n",
              "      <th>945</th>\n",
              "      <td>Slovakia</td>\n",
              "      <td>5397036</td>\n",
              "      <td>21.908599</td>\n",
              "      <td>SVK</td>\n",
              "      <td>1963</td>\n",
              "      <td>8.1</td>\n",
              "    </tr>\n",
              "    <tr>\n",
              "      <th>946</th>\n",
              "      <td>Slovakia</td>\n",
              "      <td>5397036</td>\n",
              "      <td>21.908599</td>\n",
              "      <td>SVK</td>\n",
              "      <td>1964</td>\n",
              "      <td>9.3</td>\n",
              "    </tr>\n",
              "  </tbody>\n",
              "</table>\n",
              "</div>"
            ],
            "text/plain": [
              "      Country  Population  Percentage_Y_A Codes  Time  Value\n",
              "942  Slovakia     5397036       21.908599   SVK  1960    6.9\n",
              "943  Slovakia     5397036       21.908599   SVK  1961    7.1\n",
              "944  Slovakia     5397036       21.908599   SVK  1962    7.4\n",
              "945  Slovakia     5397036       21.908599   SVK  1963    8.1\n",
              "946  Slovakia     5397036       21.908599   SVK  1964    9.3"
            ]
          },
          "metadata": {
            "tags": []
          },
          "execution_count": 181
        }
      ]
    },
    {
      "cell_type": "code",
      "metadata": {
        "id": "YpkgNKU56kMz",
        "colab_type": "code",
        "colab": {
          "base_uri": "https://localhost:8080/",
          "height": 194
        },
        "outputId": "b57c1fef-1140-42a5-b23b-1b0d8ee1f404"
      },
      "source": [
        "newFRA = df10[df10.Country.isin(FRA)]\n",
        "newFRA.head()"
      ],
      "execution_count": 182,
      "outputs": [
        {
          "output_type": "execute_result",
          "data": {
            "text/html": [
              "<div>\n",
              "<style scoped>\n",
              "    .dataframe tbody tr th:only-of-type {\n",
              "        vertical-align: middle;\n",
              "    }\n",
              "\n",
              "    .dataframe tbody tr th {\n",
              "        vertical-align: top;\n",
              "    }\n",
              "\n",
              "    .dataframe thead th {\n",
              "        text-align: right;\n",
              "    }\n",
              "</style>\n",
              "<table border=\"1\" class=\"dataframe\">\n",
              "  <thead>\n",
              "    <tr style=\"text-align: right;\">\n",
              "      <th></th>\n",
              "      <th>Country</th>\n",
              "      <th>Population</th>\n",
              "      <th>Percentage_Y_A</th>\n",
              "      <th>Codes</th>\n",
              "      <th>Time</th>\n",
              "      <th>Value</th>\n",
              "    </tr>\n",
              "  </thead>\n",
              "  <tbody>\n",
              "    <tr>\n",
              "      <th>248</th>\n",
              "      <td>France</td>\n",
              "      <td>64933400</td>\n",
              "      <td>18.5275</td>\n",
              "      <td>FRA</td>\n",
              "      <td>1970</td>\n",
              "      <td>23.2</td>\n",
              "    </tr>\n",
              "    <tr>\n",
              "      <th>249</th>\n",
              "      <td>France</td>\n",
              "      <td>64933400</td>\n",
              "      <td>18.5275</td>\n",
              "      <td>FRA</td>\n",
              "      <td>1971</td>\n",
              "      <td>22.9</td>\n",
              "    </tr>\n",
              "    <tr>\n",
              "      <th>250</th>\n",
              "      <td>France</td>\n",
              "      <td>64933400</td>\n",
              "      <td>18.5275</td>\n",
              "      <td>FRA</td>\n",
              "      <td>1972</td>\n",
              "      <td>22.6</td>\n",
              "    </tr>\n",
              "    <tr>\n",
              "      <th>251</th>\n",
              "      <td>France</td>\n",
              "      <td>64933400</td>\n",
              "      <td>18.5275</td>\n",
              "      <td>FRA</td>\n",
              "      <td>1973</td>\n",
              "      <td>22.8</td>\n",
              "    </tr>\n",
              "    <tr>\n",
              "      <th>252</th>\n",
              "      <td>France</td>\n",
              "      <td>64933400</td>\n",
              "      <td>18.5275</td>\n",
              "      <td>FRA</td>\n",
              "      <td>1974</td>\n",
              "      <td>22.5</td>\n",
              "    </tr>\n",
              "  </tbody>\n",
              "</table>\n",
              "</div>"
            ],
            "text/plain": [
              "    Country  Population  Percentage_Y_A Codes  Time  Value\n",
              "248  France    64933400         18.5275   FRA  1970   23.2\n",
              "249  France    64933400         18.5275   FRA  1971   22.9\n",
              "250  France    64933400         18.5275   FRA  1972   22.6\n",
              "251  France    64933400         18.5275   FRA  1973   22.8\n",
              "252  France    64933400         18.5275   FRA  1974   22.5"
            ]
          },
          "metadata": {
            "tags": []
          },
          "execution_count": 182
        }
      ]
    },
    {
      "cell_type": "code",
      "metadata": {
        "id": "dLL7EQBW6q65",
        "colab_type": "code",
        "colab": {
          "base_uri": "https://localhost:8080/",
          "height": 194
        },
        "outputId": "7f83f9dc-b575-446f-ef41-6cc9084840ea"
      },
      "source": [
        "newGER = df10[df10.Country.isin(GER)]\n",
        "newGER.head()"
      ],
      "execution_count": 183,
      "outputs": [
        {
          "output_type": "execute_result",
          "data": {
            "text/html": [
              "<div>\n",
              "<style scoped>\n",
              "    .dataframe tbody tr th:only-of-type {\n",
              "        vertical-align: middle;\n",
              "    }\n",
              "\n",
              "    .dataframe tbody tr th {\n",
              "        vertical-align: top;\n",
              "    }\n",
              "\n",
              "    .dataframe thead th {\n",
              "        text-align: right;\n",
              "    }\n",
              "</style>\n",
              "<table border=\"1\" class=\"dataframe\">\n",
              "  <thead>\n",
              "    <tr style=\"text-align: right;\">\n",
              "      <th></th>\n",
              "      <th>Country</th>\n",
              "      <th>Population</th>\n",
              "      <th>Percentage_Y_A</th>\n",
              "      <th>Codes</th>\n",
              "      <th>Time</th>\n",
              "      <th>Value</th>\n",
              "    </tr>\n",
              "  </thead>\n",
              "  <tbody>\n",
              "    <tr>\n",
              "      <th>849</th>\n",
              "      <td>Germany</td>\n",
              "      <td>80219695</td>\n",
              "      <td>17.10559</td>\n",
              "      <td>DEU</td>\n",
              "      <td>1961</td>\n",
              "      <td>11.0</td>\n",
              "    </tr>\n",
              "    <tr>\n",
              "      <th>850</th>\n",
              "      <td>Germany</td>\n",
              "      <td>80219695</td>\n",
              "      <td>17.10559</td>\n",
              "      <td>DEU</td>\n",
              "      <td>1962</td>\n",
              "      <td>12.1</td>\n",
              "    </tr>\n",
              "    <tr>\n",
              "      <th>851</th>\n",
              "      <td>Germany</td>\n",
              "      <td>80219695</td>\n",
              "      <td>17.10559</td>\n",
              "      <td>DEU</td>\n",
              "      <td>1963</td>\n",
              "      <td>12.9</td>\n",
              "    </tr>\n",
              "    <tr>\n",
              "      <th>852</th>\n",
              "      <td>Germany</td>\n",
              "      <td>80219695</td>\n",
              "      <td>17.10559</td>\n",
              "      <td>DEU</td>\n",
              "      <td>1964</td>\n",
              "      <td>13.7</td>\n",
              "    </tr>\n",
              "    <tr>\n",
              "      <th>853</th>\n",
              "      <td>Germany</td>\n",
              "      <td>80219695</td>\n",
              "      <td>17.10559</td>\n",
              "      <td>DEU</td>\n",
              "      <td>1965</td>\n",
              "      <td>14.0</td>\n",
              "    </tr>\n",
              "  </tbody>\n",
              "</table>\n",
              "</div>"
            ],
            "text/plain": [
              "     Country  Population  Percentage_Y_A Codes  Time  Value\n",
              "849  Germany    80219695        17.10559   DEU  1961   11.0\n",
              "850  Germany    80219695        17.10559   DEU  1962   12.1\n",
              "851  Germany    80219695        17.10559   DEU  1963   12.9\n",
              "852  Germany    80219695        17.10559   DEU  1964   13.7\n",
              "853  Germany    80219695        17.10559   DEU  1965   14.0"
            ]
          },
          "metadata": {
            "tags": []
          },
          "execution_count": 183
        }
      ]
    },
    {
      "cell_type": "code",
      "metadata": {
        "id": "tUlnDhti8AA8",
        "colab_type": "code",
        "colab": {
          "base_uri": "https://localhost:8080/",
          "height": 433
        },
        "outputId": "22c15b22-e6f4-4145-d3ce-dcab486047e5"
      },
      "source": [
        "plt.style.use('fivethirtyeight')\n",
        "fig, ax = plt.subplots(figsize = [15,6])\n",
        "newSVK.set_index('Time')['Value'].plot(color ='blue')\n",
        "newFRA.set_index('Time')['Value'].plot(color ='orange')\n",
        "newGER.set_index('Time')['Value'].plot(color ='green')\n",
        "plt.legend(labels = ['Slovakia','France','Germany'], loc =1)\n",
        "plt.title('TREND FOR CONSUMPTION OF ALCOHOL',loc = 'center', color = 'green', fontsize = 16)\n",
        "plt.ylabel('Liters Per Person', fontsize = 12)\n",
        "plt.xlabel('Years', fontsize = 12)\n",
        "plt.show()"
      ],
      "execution_count": 184,
      "outputs": [
        {
          "output_type": "display_data",
          "data": {
            "image/png": "[encoded data removed]",
            "text/plain": [
              "<Figure size 1080x432 with 1 Axes>"
            ]
          },
          "metadata": {
            "tags": []
          }
        }
      ]
    }
  ]
}